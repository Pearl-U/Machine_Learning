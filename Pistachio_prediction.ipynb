{
  "nbformat": 4,
  "nbformat_minor": 0,
  "metadata": {
    "colab": {
      "provenance": []
    },
    "kernelspec": {
      "name": "python3",
      "display_name": "Python 3"
    },
    "language_info": {
      "name": "python"
    }
  },
  "cells": [
    {
      "cell_type": "markdown",
      "source": [
        "##Predicting Pistachio type using Machine Learning"
      ],
      "metadata": {
        "id": "brhX6-uEZnHc"
      }
    },
    {
      "cell_type": "code",
      "execution_count": 1,
      "metadata": {
        "id": "8uUjr8oeCjBI"
      },
      "outputs": [],
      "source": [
        "# importing libraries\n",
        "import numpy as np\n",
        "import pandas as pd\n",
        "import matplotlib.pyplot as plt\n",
        "import seaborn as sns\n",
        "from sklearn.model_selection import train_test_split\n",
        "from sklearn.linear_model import LogisticRegression\n",
        "from sklearn import preprocessing\n",
        "from sklearn.cluster import AgglomerativeClustering\n",
        "from scipy.cluster.hierarchy import dendrogram, linkage\n",
        "from sklearn.preprocessing import LabelEncoder\n",
        "from sklearn.metrics import accuracy_score"
      ]
    },
    {
      "cell_type": "code",
      "source": [
        "# import data set\n",
        "pistachio_df = pd.read_csv('pistachio.csv')\n",
        "# data overview\n",
        "pistachio_df.head()"
      ],
      "metadata": {
        "colab": {
          "base_uri": "https://localhost:8080/",
          "height": 226
        },
        "id": "hOaN2K3YF4Oc",
        "outputId": "8cc6b990-c6bb-4e61-dbb1-5665e433856f"
      },
      "execution_count": 2,
      "outputs": [
        {
          "output_type": "execute_result",
          "data": {
            "text/plain": [
              "    AREA  PERIMETER  MAJOR_AXIS  MINOR_AXIS  ECCENTRICITY   EQDIASQ  SOLIDITY  \\\n",
              "0  73107  1161.8070    442.4074    217.7261        0.8705  305.0946    0.9424   \n",
              "1  89272  1173.1810    460.2551    251.9546        0.8369  337.1419    0.9641   \n",
              "2  60955   999.7890    386.9247    209.1255        0.8414  278.5863    0.9465   \n",
              "3  79537  1439.5129    466.7973    221.2136        0.8806  318.2289    0.9437   \n",
              "4  96395  1352.6740    515.8730    246.5945        0.8784  350.3340    0.9549   \n",
              "\n",
              "   CONVEX_AREA  EXTENT  ASPECT_RATIO  ROUNDNESS  COMPACTNESS  SHAPEFACTOR_1  \\\n",
              "0        77579  0.7710        2.0319     0.6806       0.6896         0.0061   \n",
              "1        92598  0.7584        1.8267     0.8151       0.7325         0.0052   \n",
              "2        64400  0.7263        1.8502     0.7663       0.7200         0.0063   \n",
              "3        84281  0.7568        2.1102     0.4823       0.6817         0.0059   \n",
              "4       100950  0.7428        2.0920     0.6620       0.6791         0.0054   \n",
              "\n",
              "   SHAPEFACTOR_2  SHAPEFACTOR_3  SHAPEFACTOR_4              Class  \n",
              "0         0.0030         0.4756         0.9664  Kirmizi_Pistachio  \n",
              "1         0.0028         0.5366         0.9802     Siit_Pistachio  \n",
              "2         0.0034         0.5184         0.9591  Kirmizi_Pistachio  \n",
              "3         0.0028         0.4648         0.9807  Kirmizi_Pistachio  \n",
              "4         0.0026         0.4612         0.9648  Kirmizi_Pistachio  "
            ],
            "text/html": [
              "\n",
              "  <div id=\"df-8c3466ec-7324-4744-956d-b749f79f4b1e\" class=\"colab-df-container\">\n",
              "    <div>\n",
              "<style scoped>\n",
              "    .dataframe tbody tr th:only-of-type {\n",
              "        vertical-align: middle;\n",
              "    }\n",
              "\n",
              "    .dataframe tbody tr th {\n",
              "        vertical-align: top;\n",
              "    }\n",
              "\n",
              "    .dataframe thead th {\n",
              "        text-align: right;\n",
              "    }\n",
              "</style>\n",
              "<table border=\"1\" class=\"dataframe\">\n",
              "  <thead>\n",
              "    <tr style=\"text-align: right;\">\n",
              "      <th></th>\n",
              "      <th>AREA</th>\n",
              "      <th>PERIMETER</th>\n",
              "      <th>MAJOR_AXIS</th>\n",
              "      <th>MINOR_AXIS</th>\n",
              "      <th>ECCENTRICITY</th>\n",
              "      <th>EQDIASQ</th>\n",
              "      <th>SOLIDITY</th>\n",
              "      <th>CONVEX_AREA</th>\n",
              "      <th>EXTENT</th>\n",
              "      <th>ASPECT_RATIO</th>\n",
              "      <th>ROUNDNESS</th>\n",
              "      <th>COMPACTNESS</th>\n",
              "      <th>SHAPEFACTOR_1</th>\n",
              "      <th>SHAPEFACTOR_2</th>\n",
              "      <th>SHAPEFACTOR_3</th>\n",
              "      <th>SHAPEFACTOR_4</th>\n",
              "      <th>Class</th>\n",
              "    </tr>\n",
              "  </thead>\n",
              "  <tbody>\n",
              "    <tr>\n",
              "      <th>0</th>\n",
              "      <td>73107</td>\n",
              "      <td>1161.8070</td>\n",
              "      <td>442.4074</td>\n",
              "      <td>217.7261</td>\n",
              "      <td>0.8705</td>\n",
              "      <td>305.0946</td>\n",
              "      <td>0.9424</td>\n",
              "      <td>77579</td>\n",
              "      <td>0.7710</td>\n",
              "      <td>2.0319</td>\n",
              "      <td>0.6806</td>\n",
              "      <td>0.6896</td>\n",
              "      <td>0.0061</td>\n",
              "      <td>0.0030</td>\n",
              "      <td>0.4756</td>\n",
              "      <td>0.9664</td>\n",
              "      <td>Kirmizi_Pistachio</td>\n",
              "    </tr>\n",
              "    <tr>\n",
              "      <th>1</th>\n",
              "      <td>89272</td>\n",
              "      <td>1173.1810</td>\n",
              "      <td>460.2551</td>\n",
              "      <td>251.9546</td>\n",
              "      <td>0.8369</td>\n",
              "      <td>337.1419</td>\n",
              "      <td>0.9641</td>\n",
              "      <td>92598</td>\n",
              "      <td>0.7584</td>\n",
              "      <td>1.8267</td>\n",
              "      <td>0.8151</td>\n",
              "      <td>0.7325</td>\n",
              "      <td>0.0052</td>\n",
              "      <td>0.0028</td>\n",
              "      <td>0.5366</td>\n",
              "      <td>0.9802</td>\n",
              "      <td>Siit_Pistachio</td>\n",
              "    </tr>\n",
              "    <tr>\n",
              "      <th>2</th>\n",
              "      <td>60955</td>\n",
              "      <td>999.7890</td>\n",
              "      <td>386.9247</td>\n",
              "      <td>209.1255</td>\n",
              "      <td>0.8414</td>\n",
              "      <td>278.5863</td>\n",
              "      <td>0.9465</td>\n",
              "      <td>64400</td>\n",
              "      <td>0.7263</td>\n",
              "      <td>1.8502</td>\n",
              "      <td>0.7663</td>\n",
              "      <td>0.7200</td>\n",
              "      <td>0.0063</td>\n",
              "      <td>0.0034</td>\n",
              "      <td>0.5184</td>\n",
              "      <td>0.9591</td>\n",
              "      <td>Kirmizi_Pistachio</td>\n",
              "    </tr>\n",
              "    <tr>\n",
              "      <th>3</th>\n",
              "      <td>79537</td>\n",
              "      <td>1439.5129</td>\n",
              "      <td>466.7973</td>\n",
              "      <td>221.2136</td>\n",
              "      <td>0.8806</td>\n",
              "      <td>318.2289</td>\n",
              "      <td>0.9437</td>\n",
              "      <td>84281</td>\n",
              "      <td>0.7568</td>\n",
              "      <td>2.1102</td>\n",
              "      <td>0.4823</td>\n",
              "      <td>0.6817</td>\n",
              "      <td>0.0059</td>\n",
              "      <td>0.0028</td>\n",
              "      <td>0.4648</td>\n",
              "      <td>0.9807</td>\n",
              "      <td>Kirmizi_Pistachio</td>\n",
              "    </tr>\n",
              "    <tr>\n",
              "      <th>4</th>\n",
              "      <td>96395</td>\n",
              "      <td>1352.6740</td>\n",
              "      <td>515.8730</td>\n",
              "      <td>246.5945</td>\n",
              "      <td>0.8784</td>\n",
              "      <td>350.3340</td>\n",
              "      <td>0.9549</td>\n",
              "      <td>100950</td>\n",
              "      <td>0.7428</td>\n",
              "      <td>2.0920</td>\n",
              "      <td>0.6620</td>\n",
              "      <td>0.6791</td>\n",
              "      <td>0.0054</td>\n",
              "      <td>0.0026</td>\n",
              "      <td>0.4612</td>\n",
              "      <td>0.9648</td>\n",
              "      <td>Kirmizi_Pistachio</td>\n",
              "    </tr>\n",
              "  </tbody>\n",
              "</table>\n",
              "</div>\n",
              "    <div class=\"colab-df-buttons\">\n",
              "\n",
              "  <div class=\"colab-df-container\">\n",
              "    <button class=\"colab-df-convert\" onclick=\"convertToInteractive('df-8c3466ec-7324-4744-956d-b749f79f4b1e')\"\n",
              "            title=\"Convert this dataframe to an interactive table.\"\n",
              "            style=\"display:none;\">\n",
              "\n",
              "  <svg xmlns=\"http://www.w3.org/2000/svg\" height=\"24px\" viewBox=\"0 -960 960 960\">\n",
              "    <path d=\"M120-120v-720h720v720H120Zm60-500h600v-160H180v160Zm220 220h160v-160H400v160Zm0 220h160v-160H400v160ZM180-400h160v-160H180v160Zm440 0h160v-160H620v160ZM180-180h160v-160H180v160Zm440 0h160v-160H620v160Z\"/>\n",
              "  </svg>\n",
              "    </button>\n",
              "\n",
              "  <style>\n",
              "    .colab-df-container {\n",
              "      display:flex;\n",
              "      gap: 12px;\n",
              "    }\n",
              "\n",
              "    .colab-df-convert {\n",
              "      background-color: #E8F0FE;\n",
              "      border: none;\n",
              "      border-radius: 50%;\n",
              "      cursor: pointer;\n",
              "      display: none;\n",
              "      fill: #1967D2;\n",
              "      height: 32px;\n",
              "      padding: 0 0 0 0;\n",
              "      width: 32px;\n",
              "    }\n",
              "\n",
              "    .colab-df-convert:hover {\n",
              "      background-color: #E2EBFA;\n",
              "      box-shadow: 0px 1px 2px rgba(60, 64, 67, 0.3), 0px 1px 3px 1px rgba(60, 64, 67, 0.15);\n",
              "      fill: #174EA6;\n",
              "    }\n",
              "\n",
              "    .colab-df-buttons div {\n",
              "      margin-bottom: 4px;\n",
              "    }\n",
              "\n",
              "    [theme=dark] .colab-df-convert {\n",
              "      background-color: #3B4455;\n",
              "      fill: #D2E3FC;\n",
              "    }\n",
              "\n",
              "    [theme=dark] .colab-df-convert:hover {\n",
              "      background-color: #434B5C;\n",
              "      box-shadow: 0px 1px 3px 1px rgba(0, 0, 0, 0.15);\n",
              "      filter: drop-shadow(0px 1px 2px rgba(0, 0, 0, 0.3));\n",
              "      fill: #FFFFFF;\n",
              "    }\n",
              "  </style>\n",
              "\n",
              "    <script>\n",
              "      const buttonEl =\n",
              "        document.querySelector('#df-8c3466ec-7324-4744-956d-b749f79f4b1e button.colab-df-convert');\n",
              "      buttonEl.style.display =\n",
              "        google.colab.kernel.accessAllowed ? 'block' : 'none';\n",
              "\n",
              "      async function convertToInteractive(key) {\n",
              "        const element = document.querySelector('#df-8c3466ec-7324-4744-956d-b749f79f4b1e');\n",
              "        const dataTable =\n",
              "          await google.colab.kernel.invokeFunction('convertToInteractive',\n",
              "                                                    [key], {});\n",
              "        if (!dataTable) return;\n",
              "\n",
              "        const docLinkHtml = 'Like what you see? Visit the ' +\n",
              "          '<a target=\"_blank\" href=https://colab.research.google.com/notebooks/data_table.ipynb>data table notebook</a>'\n",
              "          + ' to learn more about interactive tables.';\n",
              "        element.innerHTML = '';\n",
              "        dataTable['output_type'] = 'display_data';\n",
              "        await google.colab.output.renderOutput(dataTable, element);\n",
              "        const docLink = document.createElement('div');\n",
              "        docLink.innerHTML = docLinkHtml;\n",
              "        element.appendChild(docLink);\n",
              "      }\n",
              "    </script>\n",
              "  </div>\n",
              "\n",
              "\n",
              "<div id=\"df-517f2233-2f8d-4edb-8e7b-d77d68f4f1c1\">\n",
              "  <button class=\"colab-df-quickchart\" onclick=\"quickchart('df-517f2233-2f8d-4edb-8e7b-d77d68f4f1c1')\"\n",
              "            title=\"Suggest charts.\"\n",
              "            style=\"display:none;\">\n",
              "\n",
              "<svg xmlns=\"http://www.w3.org/2000/svg\" height=\"24px\"viewBox=\"0 0 24 24\"\n",
              "     width=\"24px\">\n",
              "    <g>\n",
              "        <path d=\"M19 3H5c-1.1 0-2 .9-2 2v14c0 1.1.9 2 2 2h14c1.1 0 2-.9 2-2V5c0-1.1-.9-2-2-2zM9 17H7v-7h2v7zm4 0h-2V7h2v10zm4 0h-2v-4h2v4z\"/>\n",
              "    </g>\n",
              "</svg>\n",
              "  </button>\n",
              "\n",
              "<style>\n",
              "  .colab-df-quickchart {\n",
              "    background-color: #E8F0FE;\n",
              "    border: none;\n",
              "    border-radius: 50%;\n",
              "    cursor: pointer;\n",
              "    display: none;\n",
              "    fill: #1967D2;\n",
              "    height: 32px;\n",
              "    padding: 0 0 0 0;\n",
              "    width: 32px;\n",
              "  }\n",
              "\n",
              "  .colab-df-quickchart:hover {\n",
              "    background-color: #E2EBFA;\n",
              "    box-shadow: 0px 1px 2px rgba(60, 64, 67, 0.3), 0px 1px 3px 1px rgba(60, 64, 67, 0.15);\n",
              "    fill: #174EA6;\n",
              "  }\n",
              "\n",
              "  [theme=dark] .colab-df-quickchart {\n",
              "    background-color: #3B4455;\n",
              "    fill: #D2E3FC;\n",
              "  }\n",
              "\n",
              "  [theme=dark] .colab-df-quickchart:hover {\n",
              "    background-color: #434B5C;\n",
              "    box-shadow: 0px 1px 3px 1px rgba(0, 0, 0, 0.15);\n",
              "    filter: drop-shadow(0px 1px 2px rgba(0, 0, 0, 0.3));\n",
              "    fill: #FFFFFF;\n",
              "  }\n",
              "</style>\n",
              "\n",
              "  <script>\n",
              "    async function quickchart(key) {\n",
              "      const charts = await google.colab.kernel.invokeFunction(\n",
              "          'suggestCharts', [key], {});\n",
              "    }\n",
              "    (() => {\n",
              "      let quickchartButtonEl =\n",
              "        document.querySelector('#df-517f2233-2f8d-4edb-8e7b-d77d68f4f1c1 button');\n",
              "      quickchartButtonEl.style.display =\n",
              "        google.colab.kernel.accessAllowed ? 'block' : 'none';\n",
              "    })();\n",
              "  </script>\n",
              "</div>\n",
              "    </div>\n",
              "  </div>\n"
            ]
          },
          "metadata": {},
          "execution_count": 2
        }
      ]
    },
    {
      "cell_type": "code",
      "source": [
        "# Check how many types of pistachio species there are\n",
        "pistachio_df['Class'].unique()"
      ],
      "metadata": {
        "colab": {
          "base_uri": "https://localhost:8080/"
        },
        "id": "Lc2Kln9eHGbj",
        "outputId": "a3163eb8-cc03-4236-ed38-38d73a337a12"
      },
      "execution_count": 3,
      "outputs": [
        {
          "output_type": "execute_result",
          "data": {
            "text/plain": [
              "array(['Kirmizi_Pistachio', 'Siit_Pistachio'], dtype=object)"
            ]
          },
          "metadata": {},
          "execution_count": 3
        }
      ]
    },
    {
      "cell_type": "markdown",
      "source": [
        "Only 2 pistachio species exist in this data set. This will make is easy to convert the text to a numerical code which can be used to create a predictive model later on."
      ],
      "metadata": {
        "id": "IOWk0IH0Hlkr"
      }
    },
    {
      "cell_type": "code",
      "source": [
        "# check for missing values\n",
        "pistachio_df.isna().sum()"
      ],
      "metadata": {
        "colab": {
          "base_uri": "https://localhost:8080/"
        },
        "id": "8Zz5WC0rH-Vk",
        "outputId": "0e8150da-f8b9-40d6-89fe-d8c4b18f8eab"
      },
      "execution_count": 4,
      "outputs": [
        {
          "output_type": "execute_result",
          "data": {
            "text/plain": [
              "AREA             0\n",
              "PERIMETER        0\n",
              "MAJOR_AXIS       0\n",
              "MINOR_AXIS       0\n",
              "ECCENTRICITY     0\n",
              "EQDIASQ          0\n",
              "SOLIDITY         0\n",
              "CONVEX_AREA      0\n",
              "EXTENT           0\n",
              "ASPECT_RATIO     0\n",
              "ROUNDNESS        0\n",
              "COMPACTNESS      0\n",
              "SHAPEFACTOR_1    0\n",
              "SHAPEFACTOR_2    0\n",
              "SHAPEFACTOR_3    0\n",
              "SHAPEFACTOR_4    0\n",
              "Class            0\n",
              "dtype: int64"
            ]
          },
          "metadata": {},
          "execution_count": 4
        }
      ]
    },
    {
      "cell_type": "markdown",
      "source": [
        "There are no missing values in this data set."
      ],
      "metadata": {
        "id": "GREjxfalIJoy"
      }
    },
    {
      "cell_type": "code",
      "source": [
        "# check the summary statistics of the data\n",
        "pistachio_df.describe()"
      ],
      "metadata": {
        "colab": {
          "base_uri": "https://localhost:8080/",
          "height": 320
        },
        "id": "ERHaRsjUH4C0",
        "outputId": "309e9698-a096-4202-c22b-cd86000270a5"
      },
      "execution_count": 5,
      "outputs": [
        {
          "output_type": "execute_result",
          "data": {
            "text/plain": [
              "                AREA    PERIMETER   MAJOR_AXIS   MINOR_AXIS  ECCENTRICITY  \\\n",
              "count    1718.000000  1718.000000  1718.000000  1718.000000   1718.000000   \n",
              "mean    79871.952852  1421.797588   446.206444   238.193128      0.840347   \n",
              "std     12968.217051   373.408835    31.885328    30.426445      0.049026   \n",
              "min     29808.000000   858.363000   321.425500   133.509600      0.504900   \n",
              "25%     71898.500000  1169.633225   426.554100   217.875475      0.817500   \n",
              "50%     79795.000000  1260.785500   448.453150   235.888750      0.850250   \n",
              "75%     88980.000000  1599.479000   467.515200   257.433625      0.875375   \n",
              "max    124008.000000  2755.049100   535.642200   383.046100      0.946000   \n",
              "\n",
              "           EQDIASQ     SOLIDITY    CONVEX_AREA       EXTENT  ASPECT_RATIO  \\\n",
              "count  1718.000000  1718.000000    1718.000000  1718.000000   1718.000000   \n",
              "mean    317.790000     0.940103   84947.671129     0.716055      1.899342   \n",
              "std      26.571699     0.050006   13081.742551     0.052534      0.241253   \n",
              "min     194.814600     0.588000   37935.000000     0.427200      1.158500   \n",
              "25%     302.562375     0.920250   76357.750000     0.688100      1.736325   \n",
              "50%     318.744650     0.953800   84973.000000     0.726100      1.899550   \n",
              "75%     336.590000     0.976300   93660.750000     0.753600      2.068575   \n",
              "max     397.356100     0.995100  132478.000000     0.820400      3.085800   \n",
              "\n",
              "         ROUNDNESS  COMPACTNESS  SHAPEFACTOR_1  SHAPEFACTOR_2  SHAPEFACTOR_3  \\\n",
              "count  1718.000000  1718.000000    1718.000000    1718.000000    1718.000000   \n",
              "mean      0.570831     0.712841       0.005704       0.003017       0.510097   \n",
              "std       0.211514     0.044230       0.000810       0.000334       0.063391   \n",
              "min       0.062800     0.476000       0.004000       0.002400       0.226600   \n",
              "25%       0.372325     0.682000       0.005200       0.002800       0.465125   \n",
              "50%       0.643850     0.709750       0.005600       0.003000       0.503750   \n",
              "75%       0.744450     0.741600       0.006100       0.003200       0.549975   \n",
              "max       0.933600     0.869500       0.013100       0.005300       0.756100   \n",
              "\n",
              "       SHAPEFACTOR_4  \n",
              "count    1718.000000  \n",
              "mean        0.955185  \n",
              "std         0.051735  \n",
              "min         0.620400  \n",
              "25%         0.944200  \n",
              "50%         0.972800  \n",
              "75%         0.986800  \n",
              "max         0.999000  "
            ],
            "text/html": [
              "\n",
              "  <div id=\"df-668c3f2b-e489-4345-9f0d-57abfe6b2bf5\" class=\"colab-df-container\">\n",
              "    <div>\n",
              "<style scoped>\n",
              "    .dataframe tbody tr th:only-of-type {\n",
              "        vertical-align: middle;\n",
              "    }\n",
              "\n",
              "    .dataframe tbody tr th {\n",
              "        vertical-align: top;\n",
              "    }\n",
              "\n",
              "    .dataframe thead th {\n",
              "        text-align: right;\n",
              "    }\n",
              "</style>\n",
              "<table border=\"1\" class=\"dataframe\">\n",
              "  <thead>\n",
              "    <tr style=\"text-align: right;\">\n",
              "      <th></th>\n",
              "      <th>AREA</th>\n",
              "      <th>PERIMETER</th>\n",
              "      <th>MAJOR_AXIS</th>\n",
              "      <th>MINOR_AXIS</th>\n",
              "      <th>ECCENTRICITY</th>\n",
              "      <th>EQDIASQ</th>\n",
              "      <th>SOLIDITY</th>\n",
              "      <th>CONVEX_AREA</th>\n",
              "      <th>EXTENT</th>\n",
              "      <th>ASPECT_RATIO</th>\n",
              "      <th>ROUNDNESS</th>\n",
              "      <th>COMPACTNESS</th>\n",
              "      <th>SHAPEFACTOR_1</th>\n",
              "      <th>SHAPEFACTOR_2</th>\n",
              "      <th>SHAPEFACTOR_3</th>\n",
              "      <th>SHAPEFACTOR_4</th>\n",
              "    </tr>\n",
              "  </thead>\n",
              "  <tbody>\n",
              "    <tr>\n",
              "      <th>count</th>\n",
              "      <td>1718.000000</td>\n",
              "      <td>1718.000000</td>\n",
              "      <td>1718.000000</td>\n",
              "      <td>1718.000000</td>\n",
              "      <td>1718.000000</td>\n",
              "      <td>1718.000000</td>\n",
              "      <td>1718.000000</td>\n",
              "      <td>1718.000000</td>\n",
              "      <td>1718.000000</td>\n",
              "      <td>1718.000000</td>\n",
              "      <td>1718.000000</td>\n",
              "      <td>1718.000000</td>\n",
              "      <td>1718.000000</td>\n",
              "      <td>1718.000000</td>\n",
              "      <td>1718.000000</td>\n",
              "      <td>1718.000000</td>\n",
              "    </tr>\n",
              "    <tr>\n",
              "      <th>mean</th>\n",
              "      <td>79871.952852</td>\n",
              "      <td>1421.797588</td>\n",
              "      <td>446.206444</td>\n",
              "      <td>238.193128</td>\n",
              "      <td>0.840347</td>\n",
              "      <td>317.790000</td>\n",
              "      <td>0.940103</td>\n",
              "      <td>84947.671129</td>\n",
              "      <td>0.716055</td>\n",
              "      <td>1.899342</td>\n",
              "      <td>0.570831</td>\n",
              "      <td>0.712841</td>\n",
              "      <td>0.005704</td>\n",
              "      <td>0.003017</td>\n",
              "      <td>0.510097</td>\n",
              "      <td>0.955185</td>\n",
              "    </tr>\n",
              "    <tr>\n",
              "      <th>std</th>\n",
              "      <td>12968.217051</td>\n",
              "      <td>373.408835</td>\n",
              "      <td>31.885328</td>\n",
              "      <td>30.426445</td>\n",
              "      <td>0.049026</td>\n",
              "      <td>26.571699</td>\n",
              "      <td>0.050006</td>\n",
              "      <td>13081.742551</td>\n",
              "      <td>0.052534</td>\n",
              "      <td>0.241253</td>\n",
              "      <td>0.211514</td>\n",
              "      <td>0.044230</td>\n",
              "      <td>0.000810</td>\n",
              "      <td>0.000334</td>\n",
              "      <td>0.063391</td>\n",
              "      <td>0.051735</td>\n",
              "    </tr>\n",
              "    <tr>\n",
              "      <th>min</th>\n",
              "      <td>29808.000000</td>\n",
              "      <td>858.363000</td>\n",
              "      <td>321.425500</td>\n",
              "      <td>133.509600</td>\n",
              "      <td>0.504900</td>\n",
              "      <td>194.814600</td>\n",
              "      <td>0.588000</td>\n",
              "      <td>37935.000000</td>\n",
              "      <td>0.427200</td>\n",
              "      <td>1.158500</td>\n",
              "      <td>0.062800</td>\n",
              "      <td>0.476000</td>\n",
              "      <td>0.004000</td>\n",
              "      <td>0.002400</td>\n",
              "      <td>0.226600</td>\n",
              "      <td>0.620400</td>\n",
              "    </tr>\n",
              "    <tr>\n",
              "      <th>25%</th>\n",
              "      <td>71898.500000</td>\n",
              "      <td>1169.633225</td>\n",
              "      <td>426.554100</td>\n",
              "      <td>217.875475</td>\n",
              "      <td>0.817500</td>\n",
              "      <td>302.562375</td>\n",
              "      <td>0.920250</td>\n",
              "      <td>76357.750000</td>\n",
              "      <td>0.688100</td>\n",
              "      <td>1.736325</td>\n",
              "      <td>0.372325</td>\n",
              "      <td>0.682000</td>\n",
              "      <td>0.005200</td>\n",
              "      <td>0.002800</td>\n",
              "      <td>0.465125</td>\n",
              "      <td>0.944200</td>\n",
              "    </tr>\n",
              "    <tr>\n",
              "      <th>50%</th>\n",
              "      <td>79795.000000</td>\n",
              "      <td>1260.785500</td>\n",
              "      <td>448.453150</td>\n",
              "      <td>235.888750</td>\n",
              "      <td>0.850250</td>\n",
              "      <td>318.744650</td>\n",
              "      <td>0.953800</td>\n",
              "      <td>84973.000000</td>\n",
              "      <td>0.726100</td>\n",
              "      <td>1.899550</td>\n",
              "      <td>0.643850</td>\n",
              "      <td>0.709750</td>\n",
              "      <td>0.005600</td>\n",
              "      <td>0.003000</td>\n",
              "      <td>0.503750</td>\n",
              "      <td>0.972800</td>\n",
              "    </tr>\n",
              "    <tr>\n",
              "      <th>75%</th>\n",
              "      <td>88980.000000</td>\n",
              "      <td>1599.479000</td>\n",
              "      <td>467.515200</td>\n",
              "      <td>257.433625</td>\n",
              "      <td>0.875375</td>\n",
              "      <td>336.590000</td>\n",
              "      <td>0.976300</td>\n",
              "      <td>93660.750000</td>\n",
              "      <td>0.753600</td>\n",
              "      <td>2.068575</td>\n",
              "      <td>0.744450</td>\n",
              "      <td>0.741600</td>\n",
              "      <td>0.006100</td>\n",
              "      <td>0.003200</td>\n",
              "      <td>0.549975</td>\n",
              "      <td>0.986800</td>\n",
              "    </tr>\n",
              "    <tr>\n",
              "      <th>max</th>\n",
              "      <td>124008.000000</td>\n",
              "      <td>2755.049100</td>\n",
              "      <td>535.642200</td>\n",
              "      <td>383.046100</td>\n",
              "      <td>0.946000</td>\n",
              "      <td>397.356100</td>\n",
              "      <td>0.995100</td>\n",
              "      <td>132478.000000</td>\n",
              "      <td>0.820400</td>\n",
              "      <td>3.085800</td>\n",
              "      <td>0.933600</td>\n",
              "      <td>0.869500</td>\n",
              "      <td>0.013100</td>\n",
              "      <td>0.005300</td>\n",
              "      <td>0.756100</td>\n",
              "      <td>0.999000</td>\n",
              "    </tr>\n",
              "  </tbody>\n",
              "</table>\n",
              "</div>\n",
              "    <div class=\"colab-df-buttons\">\n",
              "\n",
              "  <div class=\"colab-df-container\">\n",
              "    <button class=\"colab-df-convert\" onclick=\"convertToInteractive('df-668c3f2b-e489-4345-9f0d-57abfe6b2bf5')\"\n",
              "            title=\"Convert this dataframe to an interactive table.\"\n",
              "            style=\"display:none;\">\n",
              "\n",
              "  <svg xmlns=\"http://www.w3.org/2000/svg\" height=\"24px\" viewBox=\"0 -960 960 960\">\n",
              "    <path d=\"M120-120v-720h720v720H120Zm60-500h600v-160H180v160Zm220 220h160v-160H400v160Zm0 220h160v-160H400v160ZM180-400h160v-160H180v160Zm440 0h160v-160H620v160ZM180-180h160v-160H180v160Zm440 0h160v-160H620v160Z\"/>\n",
              "  </svg>\n",
              "    </button>\n",
              "\n",
              "  <style>\n",
              "    .colab-df-container {\n",
              "      display:flex;\n",
              "      gap: 12px;\n",
              "    }\n",
              "\n",
              "    .colab-df-convert {\n",
              "      background-color: #E8F0FE;\n",
              "      border: none;\n",
              "      border-radius: 50%;\n",
              "      cursor: pointer;\n",
              "      display: none;\n",
              "      fill: #1967D2;\n",
              "      height: 32px;\n",
              "      padding: 0 0 0 0;\n",
              "      width: 32px;\n",
              "    }\n",
              "\n",
              "    .colab-df-convert:hover {\n",
              "      background-color: #E2EBFA;\n",
              "      box-shadow: 0px 1px 2px rgba(60, 64, 67, 0.3), 0px 1px 3px 1px rgba(60, 64, 67, 0.15);\n",
              "      fill: #174EA6;\n",
              "    }\n",
              "\n",
              "    .colab-df-buttons div {\n",
              "      margin-bottom: 4px;\n",
              "    }\n",
              "\n",
              "    [theme=dark] .colab-df-convert {\n",
              "      background-color: #3B4455;\n",
              "      fill: #D2E3FC;\n",
              "    }\n",
              "\n",
              "    [theme=dark] .colab-df-convert:hover {\n",
              "      background-color: #434B5C;\n",
              "      box-shadow: 0px 1px 3px 1px rgba(0, 0, 0, 0.15);\n",
              "      filter: drop-shadow(0px 1px 2px rgba(0, 0, 0, 0.3));\n",
              "      fill: #FFFFFF;\n",
              "    }\n",
              "  </style>\n",
              "\n",
              "    <script>\n",
              "      const buttonEl =\n",
              "        document.querySelector('#df-668c3f2b-e489-4345-9f0d-57abfe6b2bf5 button.colab-df-convert');\n",
              "      buttonEl.style.display =\n",
              "        google.colab.kernel.accessAllowed ? 'block' : 'none';\n",
              "\n",
              "      async function convertToInteractive(key) {\n",
              "        const element = document.querySelector('#df-668c3f2b-e489-4345-9f0d-57abfe6b2bf5');\n",
              "        const dataTable =\n",
              "          await google.colab.kernel.invokeFunction('convertToInteractive',\n",
              "                                                    [key], {});\n",
              "        if (!dataTable) return;\n",
              "\n",
              "        const docLinkHtml = 'Like what you see? Visit the ' +\n",
              "          '<a target=\"_blank\" href=https://colab.research.google.com/notebooks/data_table.ipynb>data table notebook</a>'\n",
              "          + ' to learn more about interactive tables.';\n",
              "        element.innerHTML = '';\n",
              "        dataTable['output_type'] = 'display_data';\n",
              "        await google.colab.output.renderOutput(dataTable, element);\n",
              "        const docLink = document.createElement('div');\n",
              "        docLink.innerHTML = docLinkHtml;\n",
              "        element.appendChild(docLink);\n",
              "      }\n",
              "    </script>\n",
              "  </div>\n",
              "\n",
              "\n",
              "<div id=\"df-77faeadf-2691-4505-9de9-5077aa621c7b\">\n",
              "  <button class=\"colab-df-quickchart\" onclick=\"quickchart('df-77faeadf-2691-4505-9de9-5077aa621c7b')\"\n",
              "            title=\"Suggest charts.\"\n",
              "            style=\"display:none;\">\n",
              "\n",
              "<svg xmlns=\"http://www.w3.org/2000/svg\" height=\"24px\"viewBox=\"0 0 24 24\"\n",
              "     width=\"24px\">\n",
              "    <g>\n",
              "        <path d=\"M19 3H5c-1.1 0-2 .9-2 2v14c0 1.1.9 2 2 2h14c1.1 0 2-.9 2-2V5c0-1.1-.9-2-2-2zM9 17H7v-7h2v7zm4 0h-2V7h2v10zm4 0h-2v-4h2v4z\"/>\n",
              "    </g>\n",
              "</svg>\n",
              "  </button>\n",
              "\n",
              "<style>\n",
              "  .colab-df-quickchart {\n",
              "    background-color: #E8F0FE;\n",
              "    border: none;\n",
              "    border-radius: 50%;\n",
              "    cursor: pointer;\n",
              "    display: none;\n",
              "    fill: #1967D2;\n",
              "    height: 32px;\n",
              "    padding: 0 0 0 0;\n",
              "    width: 32px;\n",
              "  }\n",
              "\n",
              "  .colab-df-quickchart:hover {\n",
              "    background-color: #E2EBFA;\n",
              "    box-shadow: 0px 1px 2px rgba(60, 64, 67, 0.3), 0px 1px 3px 1px rgba(60, 64, 67, 0.15);\n",
              "    fill: #174EA6;\n",
              "  }\n",
              "\n",
              "  [theme=dark] .colab-df-quickchart {\n",
              "    background-color: #3B4455;\n",
              "    fill: #D2E3FC;\n",
              "  }\n",
              "\n",
              "  [theme=dark] .colab-df-quickchart:hover {\n",
              "    background-color: #434B5C;\n",
              "    box-shadow: 0px 1px 3px 1px rgba(0, 0, 0, 0.15);\n",
              "    filter: drop-shadow(0px 1px 2px rgba(0, 0, 0, 0.3));\n",
              "    fill: #FFFFFF;\n",
              "  }\n",
              "</style>\n",
              "\n",
              "  <script>\n",
              "    async function quickchart(key) {\n",
              "      const charts = await google.colab.kernel.invokeFunction(\n",
              "          'suggestCharts', [key], {});\n",
              "    }\n",
              "    (() => {\n",
              "      let quickchartButtonEl =\n",
              "        document.querySelector('#df-77faeadf-2691-4505-9de9-5077aa621c7b button');\n",
              "      quickchartButtonEl.style.display =\n",
              "        google.colab.kernel.accessAllowed ? 'block' : 'none';\n",
              "    })();\n",
              "  </script>\n",
              "</div>\n",
              "    </div>\n",
              "  </div>\n"
            ]
          },
          "metadata": {},
          "execution_count": 5
        }
      ]
    },
    {
      "cell_type": "code",
      "source": [
        "# check the number of rows and columns\n",
        "pistachio_df.shape"
      ],
      "metadata": {
        "colab": {
          "base_uri": "https://localhost:8080/"
        },
        "id": "YUsZAXu8Lw6g",
        "outputId": "0c9a9ae8-3fb5-4224-d99b-219b253ccb72"
      },
      "execution_count": 6,
      "outputs": [
        {
          "output_type": "execute_result",
          "data": {
            "text/plain": [
              "(1718, 17)"
            ]
          },
          "metadata": {},
          "execution_count": 6
        }
      ]
    },
    {
      "cell_type": "code",
      "source": [
        "# check data type in columns\n",
        "pistachio_df.info()"
      ],
      "metadata": {
        "colab": {
          "base_uri": "https://localhost:8080/"
        },
        "id": "vcnzWP6FbvRN",
        "outputId": "8322d590-a874-42f6-841e-3fcc7b97dfe1"
      },
      "execution_count": 28,
      "outputs": [
        {
          "output_type": "stream",
          "name": "stdout",
          "text": [
            "<class 'pandas.core.frame.DataFrame'>\n",
            "RangeIndex: 1718 entries, 0 to 1717\n",
            "Data columns (total 18 columns):\n",
            " #   Column         Non-Null Count  Dtype  \n",
            "---  ------         --------------  -----  \n",
            " 0   AREA           1718 non-null   int64  \n",
            " 1   PERIMETER      1718 non-null   float64\n",
            " 2   MAJOR_AXIS     1718 non-null   float64\n",
            " 3   MINOR_AXIS     1718 non-null   float64\n",
            " 4   ECCENTRICITY   1718 non-null   float64\n",
            " 5   EQDIASQ        1718 non-null   float64\n",
            " 6   SOLIDITY       1718 non-null   float64\n",
            " 7   CONVEX_AREA    1718 non-null   int64  \n",
            " 8   EXTENT         1718 non-null   float64\n",
            " 9   ASPECT_RATIO   1718 non-null   float64\n",
            " 10  ROUNDNESS      1718 non-null   float64\n",
            " 11  COMPACTNESS    1718 non-null   float64\n",
            " 12  SHAPEFACTOR_1  1718 non-null   float64\n",
            " 13  SHAPEFACTOR_2  1718 non-null   float64\n",
            " 14  SHAPEFACTOR_3  1718 non-null   float64\n",
            " 15  SHAPEFACTOR_4  1718 non-null   float64\n",
            " 16  Class          1718 non-null   object \n",
            " 17  Class Label    1718 non-null   int64  \n",
            "dtypes: float64(14), int64(3), object(1)\n",
            "memory usage: 241.7+ KB\n"
          ]
        }
      ]
    },
    {
      "cell_type": "code",
      "source": [
        "# see distribution of pistachio types\n",
        "pistachio_df['Class'].value_counts()"
      ],
      "metadata": {
        "colab": {
          "base_uri": "https://localhost:8080/"
        },
        "id": "638FZWNbbhB9",
        "outputId": "091eb2ae-f372-4162-c0bd-13162750ab16"
      },
      "execution_count": 27,
      "outputs": [
        {
          "output_type": "execute_result",
          "data": {
            "text/plain": [
              "Kirmizi_Pistachio    998\n",
              "Siit_Pistachio       720\n",
              "Name: Class, dtype: int64"
            ]
          },
          "metadata": {},
          "execution_count": 27
        }
      ]
    },
    {
      "cell_type": "code",
      "source": [
        "# ratio of pistachio types\n",
        "pistachio_ratio = pistachio_df['Class'].value_counts('Kirmizi_Pistachio')\n",
        "print(pistachio_ratio)\n"
      ],
      "metadata": {
        "colab": {
          "base_uri": "https://localhost:8080/"
        },
        "id": "hU11wvpWW3Wi",
        "outputId": "46e98876-25a7-401b-c03d-de8d6e6d3c94"
      },
      "execution_count": 24,
      "outputs": [
        {
          "output_type": "stream",
          "name": "stdout",
          "text": [
            "Kirmizi_Pistachio    0.580908\n",
            "Siit_Pistachio       0.419092\n",
            "Name: Class, dtype: float64\n"
          ]
        }
      ]
    },
    {
      "cell_type": "code",
      "source": [
        "# Create labels for the target variable (Class)\n",
        "# Create an instance of LabelEncoder\n",
        "le = LabelEncoder()\n",
        "\n",
        "# Fit and transform the Class column\n",
        "# New column created\n",
        "pistachio_df['Class Label'] = le.fit_transform(pistachio_df['Class'])\n",
        "pistachio_df.head()"
      ],
      "metadata": {
        "colab": {
          "base_uri": "https://localhost:8080/",
          "height": 243
        },
        "id": "Z4WvPjS0KlVA",
        "outputId": "179a153c-e162-41b6-e50f-1f6abc108615"
      },
      "execution_count": 25,
      "outputs": [
        {
          "output_type": "execute_result",
          "data": {
            "text/plain": [
              "    AREA  PERIMETER  MAJOR_AXIS  MINOR_AXIS  ECCENTRICITY   EQDIASQ  SOLIDITY  \\\n",
              "0  73107  1161.8070    442.4074    217.7261        0.8705  305.0946    0.9424   \n",
              "1  89272  1173.1810    460.2551    251.9546        0.8369  337.1419    0.9641   \n",
              "2  60955   999.7890    386.9247    209.1255        0.8414  278.5863    0.9465   \n",
              "3  79537  1439.5129    466.7973    221.2136        0.8806  318.2289    0.9437   \n",
              "4  96395  1352.6740    515.8730    246.5945        0.8784  350.3340    0.9549   \n",
              "\n",
              "   CONVEX_AREA  EXTENT  ASPECT_RATIO  ROUNDNESS  COMPACTNESS  SHAPEFACTOR_1  \\\n",
              "0        77579  0.7710        2.0319     0.6806       0.6896         0.0061   \n",
              "1        92598  0.7584        1.8267     0.8151       0.7325         0.0052   \n",
              "2        64400  0.7263        1.8502     0.7663       0.7200         0.0063   \n",
              "3        84281  0.7568        2.1102     0.4823       0.6817         0.0059   \n",
              "4       100950  0.7428        2.0920     0.6620       0.6791         0.0054   \n",
              "\n",
              "   SHAPEFACTOR_2  SHAPEFACTOR_3  SHAPEFACTOR_4              Class  Class Label  \n",
              "0         0.0030         0.4756         0.9664  Kirmizi_Pistachio            0  \n",
              "1         0.0028         0.5366         0.9802     Siit_Pistachio            1  \n",
              "2         0.0034         0.5184         0.9591  Kirmizi_Pistachio            0  \n",
              "3         0.0028         0.4648         0.9807  Kirmizi_Pistachio            0  \n",
              "4         0.0026         0.4612         0.9648  Kirmizi_Pistachio            0  "
            ],
            "text/html": [
              "\n",
              "  <div id=\"df-1e520e09-39de-4ce4-8b2c-84801b207309\" class=\"colab-df-container\">\n",
              "    <div>\n",
              "<style scoped>\n",
              "    .dataframe tbody tr th:only-of-type {\n",
              "        vertical-align: middle;\n",
              "    }\n",
              "\n",
              "    .dataframe tbody tr th {\n",
              "        vertical-align: top;\n",
              "    }\n",
              "\n",
              "    .dataframe thead th {\n",
              "        text-align: right;\n",
              "    }\n",
              "</style>\n",
              "<table border=\"1\" class=\"dataframe\">\n",
              "  <thead>\n",
              "    <tr style=\"text-align: right;\">\n",
              "      <th></th>\n",
              "      <th>AREA</th>\n",
              "      <th>PERIMETER</th>\n",
              "      <th>MAJOR_AXIS</th>\n",
              "      <th>MINOR_AXIS</th>\n",
              "      <th>ECCENTRICITY</th>\n",
              "      <th>EQDIASQ</th>\n",
              "      <th>SOLIDITY</th>\n",
              "      <th>CONVEX_AREA</th>\n",
              "      <th>EXTENT</th>\n",
              "      <th>ASPECT_RATIO</th>\n",
              "      <th>ROUNDNESS</th>\n",
              "      <th>COMPACTNESS</th>\n",
              "      <th>SHAPEFACTOR_1</th>\n",
              "      <th>SHAPEFACTOR_2</th>\n",
              "      <th>SHAPEFACTOR_3</th>\n",
              "      <th>SHAPEFACTOR_4</th>\n",
              "      <th>Class</th>\n",
              "      <th>Class Label</th>\n",
              "    </tr>\n",
              "  </thead>\n",
              "  <tbody>\n",
              "    <tr>\n",
              "      <th>0</th>\n",
              "      <td>73107</td>\n",
              "      <td>1161.8070</td>\n",
              "      <td>442.4074</td>\n",
              "      <td>217.7261</td>\n",
              "      <td>0.8705</td>\n",
              "      <td>305.0946</td>\n",
              "      <td>0.9424</td>\n",
              "      <td>77579</td>\n",
              "      <td>0.7710</td>\n",
              "      <td>2.0319</td>\n",
              "      <td>0.6806</td>\n",
              "      <td>0.6896</td>\n",
              "      <td>0.0061</td>\n",
              "      <td>0.0030</td>\n",
              "      <td>0.4756</td>\n",
              "      <td>0.9664</td>\n",
              "      <td>Kirmizi_Pistachio</td>\n",
              "      <td>0</td>\n",
              "    </tr>\n",
              "    <tr>\n",
              "      <th>1</th>\n",
              "      <td>89272</td>\n",
              "      <td>1173.1810</td>\n",
              "      <td>460.2551</td>\n",
              "      <td>251.9546</td>\n",
              "      <td>0.8369</td>\n",
              "      <td>337.1419</td>\n",
              "      <td>0.9641</td>\n",
              "      <td>92598</td>\n",
              "      <td>0.7584</td>\n",
              "      <td>1.8267</td>\n",
              "      <td>0.8151</td>\n",
              "      <td>0.7325</td>\n",
              "      <td>0.0052</td>\n",
              "      <td>0.0028</td>\n",
              "      <td>0.5366</td>\n",
              "      <td>0.9802</td>\n",
              "      <td>Siit_Pistachio</td>\n",
              "      <td>1</td>\n",
              "    </tr>\n",
              "    <tr>\n",
              "      <th>2</th>\n",
              "      <td>60955</td>\n",
              "      <td>999.7890</td>\n",
              "      <td>386.9247</td>\n",
              "      <td>209.1255</td>\n",
              "      <td>0.8414</td>\n",
              "      <td>278.5863</td>\n",
              "      <td>0.9465</td>\n",
              "      <td>64400</td>\n",
              "      <td>0.7263</td>\n",
              "      <td>1.8502</td>\n",
              "      <td>0.7663</td>\n",
              "      <td>0.7200</td>\n",
              "      <td>0.0063</td>\n",
              "      <td>0.0034</td>\n",
              "      <td>0.5184</td>\n",
              "      <td>0.9591</td>\n",
              "      <td>Kirmizi_Pistachio</td>\n",
              "      <td>0</td>\n",
              "    </tr>\n",
              "    <tr>\n",
              "      <th>3</th>\n",
              "      <td>79537</td>\n",
              "      <td>1439.5129</td>\n",
              "      <td>466.7973</td>\n",
              "      <td>221.2136</td>\n",
              "      <td>0.8806</td>\n",
              "      <td>318.2289</td>\n",
              "      <td>0.9437</td>\n",
              "      <td>84281</td>\n",
              "      <td>0.7568</td>\n",
              "      <td>2.1102</td>\n",
              "      <td>0.4823</td>\n",
              "      <td>0.6817</td>\n",
              "      <td>0.0059</td>\n",
              "      <td>0.0028</td>\n",
              "      <td>0.4648</td>\n",
              "      <td>0.9807</td>\n",
              "      <td>Kirmizi_Pistachio</td>\n",
              "      <td>0</td>\n",
              "    </tr>\n",
              "    <tr>\n",
              "      <th>4</th>\n",
              "      <td>96395</td>\n",
              "      <td>1352.6740</td>\n",
              "      <td>515.8730</td>\n",
              "      <td>246.5945</td>\n",
              "      <td>0.8784</td>\n",
              "      <td>350.3340</td>\n",
              "      <td>0.9549</td>\n",
              "      <td>100950</td>\n",
              "      <td>0.7428</td>\n",
              "      <td>2.0920</td>\n",
              "      <td>0.6620</td>\n",
              "      <td>0.6791</td>\n",
              "      <td>0.0054</td>\n",
              "      <td>0.0026</td>\n",
              "      <td>0.4612</td>\n",
              "      <td>0.9648</td>\n",
              "      <td>Kirmizi_Pistachio</td>\n",
              "      <td>0</td>\n",
              "    </tr>\n",
              "  </tbody>\n",
              "</table>\n",
              "</div>\n",
              "    <div class=\"colab-df-buttons\">\n",
              "\n",
              "  <div class=\"colab-df-container\">\n",
              "    <button class=\"colab-df-convert\" onclick=\"convertToInteractive('df-1e520e09-39de-4ce4-8b2c-84801b207309')\"\n",
              "            title=\"Convert this dataframe to an interactive table.\"\n",
              "            style=\"display:none;\">\n",
              "\n",
              "  <svg xmlns=\"http://www.w3.org/2000/svg\" height=\"24px\" viewBox=\"0 -960 960 960\">\n",
              "    <path d=\"M120-120v-720h720v720H120Zm60-500h600v-160H180v160Zm220 220h160v-160H400v160Zm0 220h160v-160H400v160ZM180-400h160v-160H180v160Zm440 0h160v-160H620v160ZM180-180h160v-160H180v160Zm440 0h160v-160H620v160Z\"/>\n",
              "  </svg>\n",
              "    </button>\n",
              "\n",
              "  <style>\n",
              "    .colab-df-container {\n",
              "      display:flex;\n",
              "      gap: 12px;\n",
              "    }\n",
              "\n",
              "    .colab-df-convert {\n",
              "      background-color: #E8F0FE;\n",
              "      border: none;\n",
              "      border-radius: 50%;\n",
              "      cursor: pointer;\n",
              "      display: none;\n",
              "      fill: #1967D2;\n",
              "      height: 32px;\n",
              "      padding: 0 0 0 0;\n",
              "      width: 32px;\n",
              "    }\n",
              "\n",
              "    .colab-df-convert:hover {\n",
              "      background-color: #E2EBFA;\n",
              "      box-shadow: 0px 1px 2px rgba(60, 64, 67, 0.3), 0px 1px 3px 1px rgba(60, 64, 67, 0.15);\n",
              "      fill: #174EA6;\n",
              "    }\n",
              "\n",
              "    .colab-df-buttons div {\n",
              "      margin-bottom: 4px;\n",
              "    }\n",
              "\n",
              "    [theme=dark] .colab-df-convert {\n",
              "      background-color: #3B4455;\n",
              "      fill: #D2E3FC;\n",
              "    }\n",
              "\n",
              "    [theme=dark] .colab-df-convert:hover {\n",
              "      background-color: #434B5C;\n",
              "      box-shadow: 0px 1px 3px 1px rgba(0, 0, 0, 0.15);\n",
              "      filter: drop-shadow(0px 1px 2px rgba(0, 0, 0, 0.3));\n",
              "      fill: #FFFFFF;\n",
              "    }\n",
              "  </style>\n",
              "\n",
              "    <script>\n",
              "      const buttonEl =\n",
              "        document.querySelector('#df-1e520e09-39de-4ce4-8b2c-84801b207309 button.colab-df-convert');\n",
              "      buttonEl.style.display =\n",
              "        google.colab.kernel.accessAllowed ? 'block' : 'none';\n",
              "\n",
              "      async function convertToInteractive(key) {\n",
              "        const element = document.querySelector('#df-1e520e09-39de-4ce4-8b2c-84801b207309');\n",
              "        const dataTable =\n",
              "          await google.colab.kernel.invokeFunction('convertToInteractive',\n",
              "                                                    [key], {});\n",
              "        if (!dataTable) return;\n",
              "\n",
              "        const docLinkHtml = 'Like what you see? Visit the ' +\n",
              "          '<a target=\"_blank\" href=https://colab.research.google.com/notebooks/data_table.ipynb>data table notebook</a>'\n",
              "          + ' to learn more about interactive tables.';\n",
              "        element.innerHTML = '';\n",
              "        dataTable['output_type'] = 'display_data';\n",
              "        await google.colab.output.renderOutput(dataTable, element);\n",
              "        const docLink = document.createElement('div');\n",
              "        docLink.innerHTML = docLinkHtml;\n",
              "        element.appendChild(docLink);\n",
              "      }\n",
              "    </script>\n",
              "  </div>\n",
              "\n",
              "\n",
              "<div id=\"df-d0db9e4f-a932-4ccf-8372-bc196e045f89\">\n",
              "  <button class=\"colab-df-quickchart\" onclick=\"quickchart('df-d0db9e4f-a932-4ccf-8372-bc196e045f89')\"\n",
              "            title=\"Suggest charts.\"\n",
              "            style=\"display:none;\">\n",
              "\n",
              "<svg xmlns=\"http://www.w3.org/2000/svg\" height=\"24px\"viewBox=\"0 0 24 24\"\n",
              "     width=\"24px\">\n",
              "    <g>\n",
              "        <path d=\"M19 3H5c-1.1 0-2 .9-2 2v14c0 1.1.9 2 2 2h14c1.1 0 2-.9 2-2V5c0-1.1-.9-2-2-2zM9 17H7v-7h2v7zm4 0h-2V7h2v10zm4 0h-2v-4h2v4z\"/>\n",
              "    </g>\n",
              "</svg>\n",
              "  </button>\n",
              "\n",
              "<style>\n",
              "  .colab-df-quickchart {\n",
              "    background-color: #E8F0FE;\n",
              "    border: none;\n",
              "    border-radius: 50%;\n",
              "    cursor: pointer;\n",
              "    display: none;\n",
              "    fill: #1967D2;\n",
              "    height: 32px;\n",
              "    padding: 0 0 0 0;\n",
              "    width: 32px;\n",
              "  }\n",
              "\n",
              "  .colab-df-quickchart:hover {\n",
              "    background-color: #E2EBFA;\n",
              "    box-shadow: 0px 1px 2px rgba(60, 64, 67, 0.3), 0px 1px 3px 1px rgba(60, 64, 67, 0.15);\n",
              "    fill: #174EA6;\n",
              "  }\n",
              "\n",
              "  [theme=dark] .colab-df-quickchart {\n",
              "    background-color: #3B4455;\n",
              "    fill: #D2E3FC;\n",
              "  }\n",
              "\n",
              "  [theme=dark] .colab-df-quickchart:hover {\n",
              "    background-color: #434B5C;\n",
              "    box-shadow: 0px 1px 3px 1px rgba(0, 0, 0, 0.15);\n",
              "    filter: drop-shadow(0px 1px 2px rgba(0, 0, 0, 0.3));\n",
              "    fill: #FFFFFF;\n",
              "  }\n",
              "</style>\n",
              "\n",
              "  <script>\n",
              "    async function quickchart(key) {\n",
              "      const charts = await google.colab.kernel.invokeFunction(\n",
              "          'suggestCharts', [key], {});\n",
              "    }\n",
              "    (() => {\n",
              "      let quickchartButtonEl =\n",
              "        document.querySelector('#df-d0db9e4f-a932-4ccf-8372-bc196e045f89 button');\n",
              "      quickchartButtonEl.style.display =\n",
              "        google.colab.kernel.accessAllowed ? 'block' : 'none';\n",
              "    })();\n",
              "  </script>\n",
              "</div>\n",
              "    </div>\n",
              "  </div>\n"
            ]
          },
          "metadata": {},
          "execution_count": 25
        }
      ]
    },
    {
      "cell_type": "markdown",
      "source": [
        "Kirmizi_Pistachio is 0 and Siit_Pistachio is 1"
      ],
      "metadata": {
        "id": "w9OMHtv9bOYm"
      }
    },
    {
      "cell_type": "code",
      "source": [
        "# check the number of rows and columns after adding new column, Class label\n",
        "pistachio_df.shape"
      ],
      "metadata": {
        "colab": {
          "base_uri": "https://localhost:8080/"
        },
        "id": "QP8uzCBgMkio",
        "outputId": "67184e77-26cf-4a74-f4e2-95105d373f9d"
      },
      "execution_count": 26,
      "outputs": [
        {
          "output_type": "execute_result",
          "data": {
            "text/plain": [
              "(1718, 18)"
            ]
          },
          "metadata": {},
          "execution_count": 26
        }
      ]
    },
    {
      "cell_type": "markdown",
      "source": [
        "Split the data into features(X) and target(y) variables to make modelling possible."
      ],
      "metadata": {
        "id": "4pJrYnAzIzfa"
      }
    },
    {
      "cell_type": "code",
      "source": [
        "# Split the data into X and y\n",
        "# Select all features\n",
        "X = pistachio_df.iloc[:,[0,1,2,3,4,5,6,7,8,9,10,11,12,13,14,15]].values.reshape(-1,16)\n",
        "\n",
        "# Select target column\n",
        "y = pistachio_df.iloc[:,-1].values\n",
        "\n",
        "\n",
        "X_new = preprocessing.scale(X) #scale the data so that it is easier to fit\n",
        "\n",
        "# split data into train and test set\n",
        "X_train, X_test, y_train, y_test = train_test_split(X_new,\n",
        "                y, test_size=0.25, random_state=0)\n",
        "\n",
        "# Look at first 5 rows of features\n",
        "X[0:5]"
      ],
      "metadata": {
        "colab": {
          "base_uri": "https://localhost:8080/"
        },
        "id": "xzxaRWBgKNbR",
        "outputId": "75f7a571-e694-4ce0-ca36-cf9dcf28e36e"
      },
      "execution_count": 29,
      "outputs": [
        {
          "output_type": "execute_result",
          "data": {
            "text/plain": [
              "array([[7.3107000e+04, 1.1618070e+03, 4.4240740e+02, 2.1772610e+02,\n",
              "        8.7050000e-01, 3.0509460e+02, 9.4240000e-01, 7.7579000e+04,\n",
              "        7.7100000e-01, 2.0319000e+00, 6.8060000e-01, 6.8960000e-01,\n",
              "        6.1000000e-03, 3.0000000e-03, 4.7560000e-01, 9.6640000e-01],\n",
              "       [8.9272000e+04, 1.1731810e+03, 4.6025510e+02, 2.5195460e+02,\n",
              "        8.3690000e-01, 3.3714190e+02, 9.6410000e-01, 9.2598000e+04,\n",
              "        7.5840000e-01, 1.8267000e+00, 8.1510000e-01, 7.3250000e-01,\n",
              "        5.2000000e-03, 2.8000000e-03, 5.3660000e-01, 9.8020000e-01],\n",
              "       [6.0955000e+04, 9.9978900e+02, 3.8692470e+02, 2.0912550e+02,\n",
              "        8.4140000e-01, 2.7858630e+02, 9.4650000e-01, 6.4400000e+04,\n",
              "        7.2630000e-01, 1.8502000e+00, 7.6630000e-01, 7.2000000e-01,\n",
              "        6.3000000e-03, 3.4000000e-03, 5.1840000e-01, 9.5910000e-01],\n",
              "       [7.9537000e+04, 1.4395129e+03, 4.6679730e+02, 2.2121360e+02,\n",
              "        8.8060000e-01, 3.1822890e+02, 9.4370000e-01, 8.4281000e+04,\n",
              "        7.5680000e-01, 2.1102000e+00, 4.8230000e-01, 6.8170000e-01,\n",
              "        5.9000000e-03, 2.8000000e-03, 4.6480000e-01, 9.8070000e-01],\n",
              "       [9.6395000e+04, 1.3526740e+03, 5.1587300e+02, 2.4659450e+02,\n",
              "        8.7840000e-01, 3.5033400e+02, 9.5490000e-01, 1.0095000e+05,\n",
              "        7.4280000e-01, 2.0920000e+00, 6.6200000e-01, 6.7910000e-01,\n",
              "        5.4000000e-03, 2.6000000e-03, 4.6120000e-01, 9.6480000e-01]])"
            ]
          },
          "metadata": {},
          "execution_count": 29
        }
      ]
    },
    {
      "cell_type": "markdown",
      "source": [
        "## **Model Creation**\n",
        "\n",
        "Time to create a model. A logistic regression model will be used."
      ],
      "metadata": {
        "id": "BttDnR6kQFy9"
      }
    },
    {
      "cell_type": "code",
      "source": [
        "# create a logistic regression model\n",
        "\n",
        "log_reg = LogisticRegression()\n",
        "\n",
        "# fit the model with the training data\n",
        "log_reg.fit(X_train, y_train)\n",
        "\n",
        "# predict y\n",
        "y_pred = log_reg.predict(X_test)"
      ],
      "metadata": {
        "id": "j61dk8rnPfnL"
      },
      "execution_count": 30,
      "outputs": []
    },
    {
      "cell_type": "code",
      "source": [
        "# Import library\n",
        "from sklearn.metrics import confusion_matrix\n",
        "\n",
        "# Create a confusion matrix\n",
        "headings = list(['Kirmizi_Pistachio', 'Siit_Pistachio'])\n",
        "conf_mat = confusion_matrix(y_test, y_pred)\n",
        "\n",
        "# Display matrix as a table\n",
        "cm_df = pd.DataFrame(conf_mat, columns=headings, index=headings)\n",
        "cm_df\n"
      ],
      "metadata": {
        "colab": {
          "base_uri": "https://localhost:8080/",
          "height": 112
        },
        "id": "8t7vEKYESwEN",
        "outputId": "5d4dc74a-992c-47e1-c0e9-88fbfa13dc0e"
      },
      "execution_count": 31,
      "outputs": [
        {
          "output_type": "execute_result",
          "data": {
            "text/plain": [
              "                   Kirmizi_Pistachio  Siit_Pistachio\n",
              "Kirmizi_Pistachio                224              25\n",
              "Siit_Pistachio                    36             145"
            ],
            "text/html": [
              "\n",
              "  <div id=\"df-1f9a94fc-4131-42d7-9135-8ba3731ed578\" class=\"colab-df-container\">\n",
              "    <div>\n",
              "<style scoped>\n",
              "    .dataframe tbody tr th:only-of-type {\n",
              "        vertical-align: middle;\n",
              "    }\n",
              "\n",
              "    .dataframe tbody tr th {\n",
              "        vertical-align: top;\n",
              "    }\n",
              "\n",
              "    .dataframe thead th {\n",
              "        text-align: right;\n",
              "    }\n",
              "</style>\n",
              "<table border=\"1\" class=\"dataframe\">\n",
              "  <thead>\n",
              "    <tr style=\"text-align: right;\">\n",
              "      <th></th>\n",
              "      <th>Kirmizi_Pistachio</th>\n",
              "      <th>Siit_Pistachio</th>\n",
              "    </tr>\n",
              "  </thead>\n",
              "  <tbody>\n",
              "    <tr>\n",
              "      <th>Kirmizi_Pistachio</th>\n",
              "      <td>224</td>\n",
              "      <td>25</td>\n",
              "    </tr>\n",
              "    <tr>\n",
              "      <th>Siit_Pistachio</th>\n",
              "      <td>36</td>\n",
              "      <td>145</td>\n",
              "    </tr>\n",
              "  </tbody>\n",
              "</table>\n",
              "</div>\n",
              "    <div class=\"colab-df-buttons\">\n",
              "\n",
              "  <div class=\"colab-df-container\">\n",
              "    <button class=\"colab-df-convert\" onclick=\"convertToInteractive('df-1f9a94fc-4131-42d7-9135-8ba3731ed578')\"\n",
              "            title=\"Convert this dataframe to an interactive table.\"\n",
              "            style=\"display:none;\">\n",
              "\n",
              "  <svg xmlns=\"http://www.w3.org/2000/svg\" height=\"24px\" viewBox=\"0 -960 960 960\">\n",
              "    <path d=\"M120-120v-720h720v720H120Zm60-500h600v-160H180v160Zm220 220h160v-160H400v160Zm0 220h160v-160H400v160ZM180-400h160v-160H180v160Zm440 0h160v-160H620v160ZM180-180h160v-160H180v160Zm440 0h160v-160H620v160Z\"/>\n",
              "  </svg>\n",
              "    </button>\n",
              "\n",
              "  <style>\n",
              "    .colab-df-container {\n",
              "      display:flex;\n",
              "      gap: 12px;\n",
              "    }\n",
              "\n",
              "    .colab-df-convert {\n",
              "      background-color: #E8F0FE;\n",
              "      border: none;\n",
              "      border-radius: 50%;\n",
              "      cursor: pointer;\n",
              "      display: none;\n",
              "      fill: #1967D2;\n",
              "      height: 32px;\n",
              "      padding: 0 0 0 0;\n",
              "      width: 32px;\n",
              "    }\n",
              "\n",
              "    .colab-df-convert:hover {\n",
              "      background-color: #E2EBFA;\n",
              "      box-shadow: 0px 1px 2px rgba(60, 64, 67, 0.3), 0px 1px 3px 1px rgba(60, 64, 67, 0.15);\n",
              "      fill: #174EA6;\n",
              "    }\n",
              "\n",
              "    .colab-df-buttons div {\n",
              "      margin-bottom: 4px;\n",
              "    }\n",
              "\n",
              "    [theme=dark] .colab-df-convert {\n",
              "      background-color: #3B4455;\n",
              "      fill: #D2E3FC;\n",
              "    }\n",
              "\n",
              "    [theme=dark] .colab-df-convert:hover {\n",
              "      background-color: #434B5C;\n",
              "      box-shadow: 0px 1px 3px 1px rgba(0, 0, 0, 0.15);\n",
              "      filter: drop-shadow(0px 1px 2px rgba(0, 0, 0, 0.3));\n",
              "      fill: #FFFFFF;\n",
              "    }\n",
              "  </style>\n",
              "\n",
              "    <script>\n",
              "      const buttonEl =\n",
              "        document.querySelector('#df-1f9a94fc-4131-42d7-9135-8ba3731ed578 button.colab-df-convert');\n",
              "      buttonEl.style.display =\n",
              "        google.colab.kernel.accessAllowed ? 'block' : 'none';\n",
              "\n",
              "      async function convertToInteractive(key) {\n",
              "        const element = document.querySelector('#df-1f9a94fc-4131-42d7-9135-8ba3731ed578');\n",
              "        const dataTable =\n",
              "          await google.colab.kernel.invokeFunction('convertToInteractive',\n",
              "                                                    [key], {});\n",
              "        if (!dataTable) return;\n",
              "\n",
              "        const docLinkHtml = 'Like what you see? Visit the ' +\n",
              "          '<a target=\"_blank\" href=https://colab.research.google.com/notebooks/data_table.ipynb>data table notebook</a>'\n",
              "          + ' to learn more about interactive tables.';\n",
              "        element.innerHTML = '';\n",
              "        dataTable['output_type'] = 'display_data';\n",
              "        await google.colab.output.renderOutput(dataTable, element);\n",
              "        const docLink = document.createElement('div');\n",
              "        docLink.innerHTML = docLinkHtml;\n",
              "        element.appendChild(docLink);\n",
              "      }\n",
              "    </script>\n",
              "  </div>\n",
              "\n",
              "\n",
              "<div id=\"df-bdfb77fd-e50d-4d56-8000-f10eb7324f81\">\n",
              "  <button class=\"colab-df-quickchart\" onclick=\"quickchart('df-bdfb77fd-e50d-4d56-8000-f10eb7324f81')\"\n",
              "            title=\"Suggest charts.\"\n",
              "            style=\"display:none;\">\n",
              "\n",
              "<svg xmlns=\"http://www.w3.org/2000/svg\" height=\"24px\"viewBox=\"0 0 24 24\"\n",
              "     width=\"24px\">\n",
              "    <g>\n",
              "        <path d=\"M19 3H5c-1.1 0-2 .9-2 2v14c0 1.1.9 2 2 2h14c1.1 0 2-.9 2-2V5c0-1.1-.9-2-2-2zM9 17H7v-7h2v7zm4 0h-2V7h2v10zm4 0h-2v-4h2v4z\"/>\n",
              "    </g>\n",
              "</svg>\n",
              "  </button>\n",
              "\n",
              "<style>\n",
              "  .colab-df-quickchart {\n",
              "    background-color: #E8F0FE;\n",
              "    border: none;\n",
              "    border-radius: 50%;\n",
              "    cursor: pointer;\n",
              "    display: none;\n",
              "    fill: #1967D2;\n",
              "    height: 32px;\n",
              "    padding: 0 0 0 0;\n",
              "    width: 32px;\n",
              "  }\n",
              "\n",
              "  .colab-df-quickchart:hover {\n",
              "    background-color: #E2EBFA;\n",
              "    box-shadow: 0px 1px 2px rgba(60, 64, 67, 0.3), 0px 1px 3px 1px rgba(60, 64, 67, 0.15);\n",
              "    fill: #174EA6;\n",
              "  }\n",
              "\n",
              "  [theme=dark] .colab-df-quickchart {\n",
              "    background-color: #3B4455;\n",
              "    fill: #D2E3FC;\n",
              "  }\n",
              "\n",
              "  [theme=dark] .colab-df-quickchart:hover {\n",
              "    background-color: #434B5C;\n",
              "    box-shadow: 0px 1px 3px 1px rgba(0, 0, 0, 0.15);\n",
              "    filter: drop-shadow(0px 1px 2px rgba(0, 0, 0, 0.3));\n",
              "    fill: #FFFFFF;\n",
              "  }\n",
              "</style>\n",
              "\n",
              "  <script>\n",
              "    async function quickchart(key) {\n",
              "      const charts = await google.colab.kernel.invokeFunction(\n",
              "          'suggestCharts', [key], {});\n",
              "    }\n",
              "    (() => {\n",
              "      let quickchartButtonEl =\n",
              "        document.querySelector('#df-bdfb77fd-e50d-4d56-8000-f10eb7324f81 button');\n",
              "      quickchartButtonEl.style.display =\n",
              "        google.colab.kernel.accessAllowed ? 'block' : 'none';\n",
              "    })();\n",
              "  </script>\n",
              "</div>\n",
              "    </div>\n",
              "  </div>\n"
            ]
          },
          "metadata": {},
          "execution_count": 31
        }
      ]
    },
    {
      "cell_type": "markdown",
      "source": [
        "36 pistachios were incorrectly labelled as Siit Pistachios and 25 were incorrectly labelled as Kirmizi Pistachio's by the model."
      ],
      "metadata": {
        "id": "9fFtZfnhQ1Tv"
      }
    },
    {
      "cell_type": "markdown",
      "source": [
        "**Measure the model's performance by calculating the accuracy score.**"
      ],
      "metadata": {
        "id": "ENw8zU8_RP2k"
      }
    },
    {
      "cell_type": "code",
      "source": [
        "# model's accuracy, rounded to 2 decimals\n",
        "model_score = log_reg.score(X_test, y_test)\n",
        "print(f'Model Accuracy: {round(model_score,2)}')"
      ],
      "metadata": {
        "colab": {
          "base_uri": "https://localhost:8080/"
        },
        "id": "joI-uQ-wRbtk",
        "outputId": "eea4989a-43f2-42ee-d5c4-d2bf2313b192"
      },
      "execution_count": 32,
      "outputs": [
        {
          "output_type": "stream",
          "name": "stdout",
          "text": [
            "Model Accuracy: 0.86\n"
          ]
        }
      ]
    },
    {
      "cell_type": "code",
      "source": [
        "# Using built in accuracy function, rounded to 2 decimals\n",
        "round(accuracy_score(y_pred, y_test),2)"
      ],
      "metadata": {
        "colab": {
          "base_uri": "https://localhost:8080/"
        },
        "id": "p2xg4AdtPflm",
        "outputId": "425f4eb5-83a3-4f3d-ba06-c4ac641d4f2d"
      },
      "execution_count": 33,
      "outputs": [
        {
          "output_type": "execute_result",
          "data": {
            "text/plain": [
              "0.86"
            ]
          },
          "metadata": {},
          "execution_count": 33
        }
      ]
    },
    {
      "cell_type": "markdown",
      "source": [
        "Create a heat map using correlation to get an idea of how the different features(variables) are related."
      ],
      "metadata": {
        "id": "d3drCySnT6sm"
      }
    },
    {
      "cell_type": "code",
      "source": [
        "# Size your plot\n",
        "plt.figure(figsize=(13,13))\n",
        "\n",
        "# Create a heat map\n",
        "ax = sns.heatmap(pistachio_df.drop('Class Label', axis=1).corr(), annot=True)\n",
        "\n",
        "plt.show()"
      ],
      "metadata": {
        "colab": {
          "base_uri": "https://localhost:8080/",
          "height": 1000
        },
        "id": "h1t7WDylYYm4",
        "outputId": "1b40155e-680c-45e6-bf72-19a0eeec8b0f"
      },
      "execution_count": 34,
      "outputs": [
        {
          "output_type": "stream",
          "name": "stderr",
          "text": [
            "<ipython-input-34-241d94c84668>:5: FutureWarning: The default value of numeric_only in DataFrame.corr is deprecated. In a future version, it will default to False. Select only valid columns or specify the value of numeric_only to silence this warning.\n",
            "  ax = sns.heatmap(pistachio_df.drop('Class Label', axis=1).corr(), annot=True)\n"
          ]
        },
        {
          "output_type": "display_data",
          "data": {
            "text/plain": [
              "<Figure size 1300x1300 with 2 Axes>"
            ],
            "image/png": "[encoded data removed]"
          },
          "metadata": {}
        }
      ]
    },
    {
      "cell_type": "markdown",
      "source": [
        "The following pairs had strong correlation of 0.9 or higher (either positive or negative).\n",
        "*   EQDIASQ, AREA\n",
        "*   CONVEX_AREA, AREA\n",
        "*   ASPECT_RATIO, ECCENTRICITY\n",
        "*   SHAPEFACTOR_4, SOLIDITY\n",
        "*   SHAPEFACTOR_3, COMPACTNESS\n",
        "*   ASPET_RATIO, COMPACTNESS\n",
        "*   SHAPEFACTOR_1, EQDIASQ\n",
        "*   EQDIASQ, CONVEX_AREA\n",
        "\n",
        "\n",
        "\n",
        "\n",
        "\n",
        "\n"
      ],
      "metadata": {
        "id": "nYHM5XViU2al"
      }
    },
    {
      "cell_type": "markdown",
      "source": [
        "##Using Principal Component Analysis (PCA) to reduce dimensionality\n",
        "**Option 1**"
      ],
      "metadata": {
        "id": "YO3gHTomZEyc"
      }
    },
    {
      "cell_type": "code",
      "source": [
        "# Import library\n",
        "from sklearn.decomposition import PCA\n",
        "from sklearn.preprocessing import StandardScaler\n",
        "# choose number of components to be generated\n",
        "nr_comps = 5\n",
        "pca = PCA(n_components=nr_comps)\n",
        "# Scale X using Standard Scaler\n",
        "X_pca = StandardScaler().fit_transform(X)\n",
        "# obtain components\n",
        "principal_components = pca.fit_transform(X_pca)\n",
        "\n",
        "\n",
        "# transform the components into a pandas data frame\n",
        "pca_df = pd.DataFrame(principal_components, index=pistachio_df.index)\n",
        "\n",
        "# look at the data frame\n",
        "pca_df.head()\n"
      ],
      "metadata": {
        "colab": {
          "base_uri": "https://localhost:8080/",
          "height": 206
        },
        "id": "4L6gq57jibGc",
        "outputId": "289a0d08-3247-4bbb-baf7-4d03d2ad5dd8"
      },
      "execution_count": 35,
      "outputs": [
        {
          "output_type": "execute_result",
          "data": {
            "text/plain": [
              "          0         1         2         3         4\n",
              "0  1.417165 -1.241668  0.467468 -0.173413  0.908023\n",
              "1 -1.841466 -1.404646  0.307516  0.449374  0.474864\n",
              "2  2.328898  0.159566  3.090275  0.297681  0.251376\n",
              "3  0.885710 -1.354179 -1.093780 -0.804575  0.320594\n",
              "4 -1.216448 -2.195653 -2.680591  0.518954  0.582621"
            ],
            "text/html": [
              "\n",
              "  <div id=\"df-2146209f-eac8-4cf6-b8b7-058f18204771\" class=\"colab-df-container\">\n",
              "    <div>\n",
              "<style scoped>\n",
              "    .dataframe tbody tr th:only-of-type {\n",
              "        vertical-align: middle;\n",
              "    }\n",
              "\n",
              "    .dataframe tbody tr th {\n",
              "        vertical-align: top;\n",
              "    }\n",
              "\n",
              "    .dataframe thead th {\n",
              "        text-align: right;\n",
              "    }\n",
              "</style>\n",
              "<table border=\"1\" class=\"dataframe\">\n",
              "  <thead>\n",
              "    <tr style=\"text-align: right;\">\n",
              "      <th></th>\n",
              "      <th>0</th>\n",
              "      <th>1</th>\n",
              "      <th>2</th>\n",
              "      <th>3</th>\n",
              "      <th>4</th>\n",
              "    </tr>\n",
              "  </thead>\n",
              "  <tbody>\n",
              "    <tr>\n",
              "      <th>0</th>\n",
              "      <td>1.417165</td>\n",
              "      <td>-1.241668</td>\n",
              "      <td>0.467468</td>\n",
              "      <td>-0.173413</td>\n",
              "      <td>0.908023</td>\n",
              "    </tr>\n",
              "    <tr>\n",
              "      <th>1</th>\n",
              "      <td>-1.841466</td>\n",
              "      <td>-1.404646</td>\n",
              "      <td>0.307516</td>\n",
              "      <td>0.449374</td>\n",
              "      <td>0.474864</td>\n",
              "    </tr>\n",
              "    <tr>\n",
              "      <th>2</th>\n",
              "      <td>2.328898</td>\n",
              "      <td>0.159566</td>\n",
              "      <td>3.090275</td>\n",
              "      <td>0.297681</td>\n",
              "      <td>0.251376</td>\n",
              "    </tr>\n",
              "    <tr>\n",
              "      <th>3</th>\n",
              "      <td>0.885710</td>\n",
              "      <td>-1.354179</td>\n",
              "      <td>-1.093780</td>\n",
              "      <td>-0.804575</td>\n",
              "      <td>0.320594</td>\n",
              "    </tr>\n",
              "    <tr>\n",
              "      <th>4</th>\n",
              "      <td>-1.216448</td>\n",
              "      <td>-2.195653</td>\n",
              "      <td>-2.680591</td>\n",
              "      <td>0.518954</td>\n",
              "      <td>0.582621</td>\n",
              "    </tr>\n",
              "  </tbody>\n",
              "</table>\n",
              "</div>\n",
              "    <div class=\"colab-df-buttons\">\n",
              "\n",
              "  <div class=\"colab-df-container\">\n",
              "    <button class=\"colab-df-convert\" onclick=\"convertToInteractive('df-2146209f-eac8-4cf6-b8b7-058f18204771')\"\n",
              "            title=\"Convert this dataframe to an interactive table.\"\n",
              "            style=\"display:none;\">\n",
              "\n",
              "  <svg xmlns=\"http://www.w3.org/2000/svg\" height=\"24px\" viewBox=\"0 -960 960 960\">\n",
              "    <path d=\"M120-120v-720h720v720H120Zm60-500h600v-160H180v160Zm220 220h160v-160H400v160Zm0 220h160v-160H400v160ZM180-400h160v-160H180v160Zm440 0h160v-160H620v160ZM180-180h160v-160H180v160Zm440 0h160v-160H620v160Z\"/>\n",
              "  </svg>\n",
              "    </button>\n",
              "\n",
              "  <style>\n",
              "    .colab-df-container {\n",
              "      display:flex;\n",
              "      gap: 12px;\n",
              "    }\n",
              "\n",
              "    .colab-df-convert {\n",
              "      background-color: #E8F0FE;\n",
              "      border: none;\n",
              "      border-radius: 50%;\n",
              "      cursor: pointer;\n",
              "      display: none;\n",
              "      fill: #1967D2;\n",
              "      height: 32px;\n",
              "      padding: 0 0 0 0;\n",
              "      width: 32px;\n",
              "    }\n",
              "\n",
              "    .colab-df-convert:hover {\n",
              "      background-color: #E2EBFA;\n",
              "      box-shadow: 0px 1px 2px rgba(60, 64, 67, 0.3), 0px 1px 3px 1px rgba(60, 64, 67, 0.15);\n",
              "      fill: #174EA6;\n",
              "    }\n",
              "\n",
              "    .colab-df-buttons div {\n",
              "      margin-bottom: 4px;\n",
              "    }\n",
              "\n",
              "    [theme=dark] .colab-df-convert {\n",
              "      background-color: #3B4455;\n",
              "      fill: #D2E3FC;\n",
              "    }\n",
              "\n",
              "    [theme=dark] .colab-df-convert:hover {\n",
              "      background-color: #434B5C;\n",
              "      box-shadow: 0px 1px 3px 1px rgba(0, 0, 0, 0.15);\n",
              "      filter: drop-shadow(0px 1px 2px rgba(0, 0, 0, 0.3));\n",
              "      fill: #FFFFFF;\n",
              "    }\n",
              "  </style>\n",
              "\n",
              "    <script>\n",
              "      const buttonEl =\n",
              "        document.querySelector('#df-2146209f-eac8-4cf6-b8b7-058f18204771 button.colab-df-convert');\n",
              "      buttonEl.style.display =\n",
              "        google.colab.kernel.accessAllowed ? 'block' : 'none';\n",
              "\n",
              "      async function convertToInteractive(key) {\n",
              "        const element = document.querySelector('#df-2146209f-eac8-4cf6-b8b7-058f18204771');\n",
              "        const dataTable =\n",
              "          await google.colab.kernel.invokeFunction('convertToInteractive',\n",
              "                                                    [key], {});\n",
              "        if (!dataTable) return;\n",
              "\n",
              "        const docLinkHtml = 'Like what you see? Visit the ' +\n",
              "          '<a target=\"_blank\" href=https://colab.research.google.com/notebooks/data_table.ipynb>data table notebook</a>'\n",
              "          + ' to learn more about interactive tables.';\n",
              "        element.innerHTML = '';\n",
              "        dataTable['output_type'] = 'display_data';\n",
              "        await google.colab.output.renderOutput(dataTable, element);\n",
              "        const docLink = document.createElement('div');\n",
              "        docLink.innerHTML = docLinkHtml;\n",
              "        element.appendChild(docLink);\n",
              "      }\n",
              "    </script>\n",
              "  </div>\n",
              "\n",
              "\n",
              "<div id=\"df-2220f818-afb8-4853-b5ad-fca2dd615489\">\n",
              "  <button class=\"colab-df-quickchart\" onclick=\"quickchart('df-2220f818-afb8-4853-b5ad-fca2dd615489')\"\n",
              "            title=\"Suggest charts.\"\n",
              "            style=\"display:none;\">\n",
              "\n",
              "<svg xmlns=\"http://www.w3.org/2000/svg\" height=\"24px\"viewBox=\"0 0 24 24\"\n",
              "     width=\"24px\">\n",
              "    <g>\n",
              "        <path d=\"M19 3H5c-1.1 0-2 .9-2 2v14c0 1.1.9 2 2 2h14c1.1 0 2-.9 2-2V5c0-1.1-.9-2-2-2zM9 17H7v-7h2v7zm4 0h-2V7h2v10zm4 0h-2v-4h2v4z\"/>\n",
              "    </g>\n",
              "</svg>\n",
              "  </button>\n",
              "\n",
              "<style>\n",
              "  .colab-df-quickchart {\n",
              "    background-color: #E8F0FE;\n",
              "    border: none;\n",
              "    border-radius: 50%;\n",
              "    cursor: pointer;\n",
              "    display: none;\n",
              "    fill: #1967D2;\n",
              "    height: 32px;\n",
              "    padding: 0 0 0 0;\n",
              "    width: 32px;\n",
              "  }\n",
              "\n",
              "  .colab-df-quickchart:hover {\n",
              "    background-color: #E2EBFA;\n",
              "    box-shadow: 0px 1px 2px rgba(60, 64, 67, 0.3), 0px 1px 3px 1px rgba(60, 64, 67, 0.15);\n",
              "    fill: #174EA6;\n",
              "  }\n",
              "\n",
              "  [theme=dark] .colab-df-quickchart {\n",
              "    background-color: #3B4455;\n",
              "    fill: #D2E3FC;\n",
              "  }\n",
              "\n",
              "  [theme=dark] .colab-df-quickchart:hover {\n",
              "    background-color: #434B5C;\n",
              "    box-shadow: 0px 1px 3px 1px rgba(0, 0, 0, 0.15);\n",
              "    filter: drop-shadow(0px 1px 2px rgba(0, 0, 0, 0.3));\n",
              "    fill: #FFFFFF;\n",
              "  }\n",
              "</style>\n",
              "\n",
              "  <script>\n",
              "    async function quickchart(key) {\n",
              "      const charts = await google.colab.kernel.invokeFunction(\n",
              "          'suggestCharts', [key], {});\n",
              "    }\n",
              "    (() => {\n",
              "      let quickchartButtonEl =\n",
              "        document.querySelector('#df-2220f818-afb8-4853-b5ad-fca2dd615489 button');\n",
              "      quickchartButtonEl.style.display =\n",
              "        google.colab.kernel.accessAllowed ? 'block' : 'none';\n",
              "    })();\n",
              "  </script>\n",
              "</div>\n",
              "    </div>\n",
              "  </div>\n"
            ]
          },
          "metadata": {},
          "execution_count": 35
        }
      ]
    },
    {
      "cell_type": "code",
      "source": [
        "# verify number of components\n",
        "pca.n_components_"
      ],
      "metadata": {
        "colab": {
          "base_uri": "https://localhost:8080/"
        },
        "id": "FDGcSE5BdKt8",
        "outputId": "c5acf264-33a2-41d8-dc66-489624e27163"
      },
      "execution_count": 37,
      "outputs": [
        {
          "output_type": "execute_result",
          "data": {
            "text/plain": [
              "5"
            ]
          },
          "metadata": {},
          "execution_count": 37
        }
      ]
    },
    {
      "cell_type": "code",
      "source": [
        "#variance distribution in components\n",
        "pca.explained_variance_ratio_"
      ],
      "metadata": {
        "colab": {
          "base_uri": "https://localhost:8080/"
        },
        "id": "LGMty1raiwwE",
        "outputId": "c075463a-6a34-4900-9fc1-a98e5fba04a0"
      },
      "execution_count": 38,
      "outputs": [
        {
          "output_type": "execute_result",
          "data": {
            "text/plain": [
              "array([0.44811063, 0.30754994, 0.1621144 , 0.04122837, 0.02697606])"
            ]
          },
          "metadata": {},
          "execution_count": 38
        }
      ]
    },
    {
      "cell_type": "markdown",
      "source": [
        "Recuding dimensions means some data will be lost.\n",
        "The 5 features selected  account for 98.6% of the variance which means that only 1.4% of the variance was lost. The first two features account for 44.8% and 30.8% of the variance respectively."
      ],
      "metadata": {
        "id": "MrIcWEiFjgKC"
      }
    },
    {
      "cell_type": "markdown",
      "source": [
        "**Option 2**"
      ],
      "metadata": {
        "id": "kGgGEnNGnAjB"
      }
    },
    {
      "cell_type": "code",
      "source": [
        "# Using 95% of the variance to determine the number of components\n",
        "# Scale X using Standard Scaler\n",
        "X_pca_1 = StandardScaler().fit_transform(X)\n",
        "pca_1 = PCA(.95)\n",
        "\n",
        "# obtain components\n",
        "principal_components = pca_1.fit_transform(X_pca_1)\n",
        "\n",
        "# transform the components into a pandas data frame\n",
        "pca_df = pd.DataFrame(principal_components, index=pistachio_df.index)\n",
        "\n",
        "# look at the data frame\n",
        "pca_df.head()"
      ],
      "metadata": {
        "colab": {
          "base_uri": "https://localhost:8080/",
          "height": 206
        },
        "id": "Tnhrziv1Zqlh",
        "outputId": "73595d99-3e76-4cd9-ff0e-a72c45f177b6"
      },
      "execution_count": 39,
      "outputs": [
        {
          "output_type": "execute_result",
          "data": {
            "text/plain": [
              "          0         1         2         3\n",
              "0  1.417165 -1.241668  0.467468 -0.173413\n",
              "1 -1.841466 -1.404646  0.307516  0.449374\n",
              "2  2.328898  0.159566  3.090275  0.297681\n",
              "3  0.885710 -1.354179 -1.093780 -0.804575\n",
              "4 -1.216448 -2.195653 -2.680591  0.518954"
            ],
            "text/html": [
              "\n",
              "  <div id=\"df-f1ea8937-bf73-471c-9217-637c8001e4ef\" class=\"colab-df-container\">\n",
              "    <div>\n",
              "<style scoped>\n",
              "    .dataframe tbody tr th:only-of-type {\n",
              "        vertical-align: middle;\n",
              "    }\n",
              "\n",
              "    .dataframe tbody tr th {\n",
              "        vertical-align: top;\n",
              "    }\n",
              "\n",
              "    .dataframe thead th {\n",
              "        text-align: right;\n",
              "    }\n",
              "</style>\n",
              "<table border=\"1\" class=\"dataframe\">\n",
              "  <thead>\n",
              "    <tr style=\"text-align: right;\">\n",
              "      <th></th>\n",
              "      <th>0</th>\n",
              "      <th>1</th>\n",
              "      <th>2</th>\n",
              "      <th>3</th>\n",
              "    </tr>\n",
              "  </thead>\n",
              "  <tbody>\n",
              "    <tr>\n",
              "      <th>0</th>\n",
              "      <td>1.417165</td>\n",
              "      <td>-1.241668</td>\n",
              "      <td>0.467468</td>\n",
              "      <td>-0.173413</td>\n",
              "    </tr>\n",
              "    <tr>\n",
              "      <th>1</th>\n",
              "      <td>-1.841466</td>\n",
              "      <td>-1.404646</td>\n",
              "      <td>0.307516</td>\n",
              "      <td>0.449374</td>\n",
              "    </tr>\n",
              "    <tr>\n",
              "      <th>2</th>\n",
              "      <td>2.328898</td>\n",
              "      <td>0.159566</td>\n",
              "      <td>3.090275</td>\n",
              "      <td>0.297681</td>\n",
              "    </tr>\n",
              "    <tr>\n",
              "      <th>3</th>\n",
              "      <td>0.885710</td>\n",
              "      <td>-1.354179</td>\n",
              "      <td>-1.093780</td>\n",
              "      <td>-0.804575</td>\n",
              "    </tr>\n",
              "    <tr>\n",
              "      <th>4</th>\n",
              "      <td>-1.216448</td>\n",
              "      <td>-2.195653</td>\n",
              "      <td>-2.680591</td>\n",
              "      <td>0.518954</td>\n",
              "    </tr>\n",
              "  </tbody>\n",
              "</table>\n",
              "</div>\n",
              "    <div class=\"colab-df-buttons\">\n",
              "\n",
              "  <div class=\"colab-df-container\">\n",
              "    <button class=\"colab-df-convert\" onclick=\"convertToInteractive('df-f1ea8937-bf73-471c-9217-637c8001e4ef')\"\n",
              "            title=\"Convert this dataframe to an interactive table.\"\n",
              "            style=\"display:none;\">\n",
              "\n",
              "  <svg xmlns=\"http://www.w3.org/2000/svg\" height=\"24px\" viewBox=\"0 -960 960 960\">\n",
              "    <path d=\"M120-120v-720h720v720H120Zm60-500h600v-160H180v160Zm220 220h160v-160H400v160Zm0 220h160v-160H400v160ZM180-400h160v-160H180v160Zm440 0h160v-160H620v160ZM180-180h160v-160H180v160Zm440 0h160v-160H620v160Z\"/>\n",
              "  </svg>\n",
              "    </button>\n",
              "\n",
              "  <style>\n",
              "    .colab-df-container {\n",
              "      display:flex;\n",
              "      gap: 12px;\n",
              "    }\n",
              "\n",
              "    .colab-df-convert {\n",
              "      background-color: #E8F0FE;\n",
              "      border: none;\n",
              "      border-radius: 50%;\n",
              "      cursor: pointer;\n",
              "      display: none;\n",
              "      fill: #1967D2;\n",
              "      height: 32px;\n",
              "      padding: 0 0 0 0;\n",
              "      width: 32px;\n",
              "    }\n",
              "\n",
              "    .colab-df-convert:hover {\n",
              "      background-color: #E2EBFA;\n",
              "      box-shadow: 0px 1px 2px rgba(60, 64, 67, 0.3), 0px 1px 3px 1px rgba(60, 64, 67, 0.15);\n",
              "      fill: #174EA6;\n",
              "    }\n",
              "\n",
              "    .colab-df-buttons div {\n",
              "      margin-bottom: 4px;\n",
              "    }\n",
              "\n",
              "    [theme=dark] .colab-df-convert {\n",
              "      background-color: #3B4455;\n",
              "      fill: #D2E3FC;\n",
              "    }\n",
              "\n",
              "    [theme=dark] .colab-df-convert:hover {\n",
              "      background-color: #434B5C;\n",
              "      box-shadow: 0px 1px 3px 1px rgba(0, 0, 0, 0.15);\n",
              "      filter: drop-shadow(0px 1px 2px rgba(0, 0, 0, 0.3));\n",
              "      fill: #FFFFFF;\n",
              "    }\n",
              "  </style>\n",
              "\n",
              "    <script>\n",
              "      const buttonEl =\n",
              "        document.querySelector('#df-f1ea8937-bf73-471c-9217-637c8001e4ef button.colab-df-convert');\n",
              "      buttonEl.style.display =\n",
              "        google.colab.kernel.accessAllowed ? 'block' : 'none';\n",
              "\n",
              "      async function convertToInteractive(key) {\n",
              "        const element = document.querySelector('#df-f1ea8937-bf73-471c-9217-637c8001e4ef');\n",
              "        const dataTable =\n",
              "          await google.colab.kernel.invokeFunction('convertToInteractive',\n",
              "                                                    [key], {});\n",
              "        if (!dataTable) return;\n",
              "\n",
              "        const docLinkHtml = 'Like what you see? Visit the ' +\n",
              "          '<a target=\"_blank\" href=https://colab.research.google.com/notebooks/data_table.ipynb>data table notebook</a>'\n",
              "          + ' to learn more about interactive tables.';\n",
              "        element.innerHTML = '';\n",
              "        dataTable['output_type'] = 'display_data';\n",
              "        await google.colab.output.renderOutput(dataTable, element);\n",
              "        const docLink = document.createElement('div');\n",
              "        docLink.innerHTML = docLinkHtml;\n",
              "        element.appendChild(docLink);\n",
              "      }\n",
              "    </script>\n",
              "  </div>\n",
              "\n",
              "\n",
              "<div id=\"df-c6ea02bc-7f8e-4797-bced-b3f71b3be2b2\">\n",
              "  <button class=\"colab-df-quickchart\" onclick=\"quickchart('df-c6ea02bc-7f8e-4797-bced-b3f71b3be2b2')\"\n",
              "            title=\"Suggest charts.\"\n",
              "            style=\"display:none;\">\n",
              "\n",
              "<svg xmlns=\"http://www.w3.org/2000/svg\" height=\"24px\"viewBox=\"0 0 24 24\"\n",
              "     width=\"24px\">\n",
              "    <g>\n",
              "        <path d=\"M19 3H5c-1.1 0-2 .9-2 2v14c0 1.1.9 2 2 2h14c1.1 0 2-.9 2-2V5c0-1.1-.9-2-2-2zM9 17H7v-7h2v7zm4 0h-2V7h2v10zm4 0h-2v-4h2v4z\"/>\n",
              "    </g>\n",
              "</svg>\n",
              "  </button>\n",
              "\n",
              "<style>\n",
              "  .colab-df-quickchart {\n",
              "    background-color: #E8F0FE;\n",
              "    border: none;\n",
              "    border-radius: 50%;\n",
              "    cursor: pointer;\n",
              "    display: none;\n",
              "    fill: #1967D2;\n",
              "    height: 32px;\n",
              "    padding: 0 0 0 0;\n",
              "    width: 32px;\n",
              "  }\n",
              "\n",
              "  .colab-df-quickchart:hover {\n",
              "    background-color: #E2EBFA;\n",
              "    box-shadow: 0px 1px 2px rgba(60, 64, 67, 0.3), 0px 1px 3px 1px rgba(60, 64, 67, 0.15);\n",
              "    fill: #174EA6;\n",
              "  }\n",
              "\n",
              "  [theme=dark] .colab-df-quickchart {\n",
              "    background-color: #3B4455;\n",
              "    fill: #D2E3FC;\n",
              "  }\n",
              "\n",
              "  [theme=dark] .colab-df-quickchart:hover {\n",
              "    background-color: #434B5C;\n",
              "    box-shadow: 0px 1px 3px 1px rgba(0, 0, 0, 0.15);\n",
              "    filter: drop-shadow(0px 1px 2px rgba(0, 0, 0, 0.3));\n",
              "    fill: #FFFFFF;\n",
              "  }\n",
              "</style>\n",
              "\n",
              "  <script>\n",
              "    async function quickchart(key) {\n",
              "      const charts = await google.colab.kernel.invokeFunction(\n",
              "          'suggestCharts', [key], {});\n",
              "    }\n",
              "    (() => {\n",
              "      let quickchartButtonEl =\n",
              "        document.querySelector('#df-c6ea02bc-7f8e-4797-bced-b3f71b3be2b2 button');\n",
              "      quickchartButtonEl.style.display =\n",
              "        google.colab.kernel.accessAllowed ? 'block' : 'none';\n",
              "    })();\n",
              "  </script>\n",
              "</div>\n",
              "    </div>\n",
              "  </div>\n"
            ]
          },
          "metadata": {},
          "execution_count": 39
        }
      ]
    },
    {
      "cell_type": "code",
      "source": [
        "# Check how many components were used\n",
        "pca_1.n_components_"
      ],
      "metadata": {
        "colab": {
          "base_uri": "https://localhost:8080/"
        },
        "id": "EKLtRqRzmOMI",
        "outputId": "86c925f9-9fbc-4500-9557-8f48eaf529d3"
      },
      "execution_count": 40,
      "outputs": [
        {
          "output_type": "execute_result",
          "data": {
            "text/plain": [
              "4"
            ]
          },
          "metadata": {},
          "execution_count": 40
        }
      ]
    },
    {
      "cell_type": "markdown",
      "source": [
        "Keeping PCA at 95% of the variance returns 4 features as the most influential features needed to determine the target, as opposed to using 16 of the original features. This reduces the model computing time."
      ],
      "metadata": {
        "id": "NL4Gjo5rdrKu"
      }
    },
    {
      "cell_type": "markdown",
      "source": [
        "Create a Logistic Regression model using the 4 reduced features."
      ],
      "metadata": {
        "id": "0uEt-Fw5fL32"
      }
    },
    {
      "cell_type": "code",
      "source": [
        "# split data into train and test set\n",
        "X_train, X_test, y_train, y_test = train_test_split(X_pca_1,\n",
        "                y, test_size=0.25, random_state=1)\n",
        "# instantiate a model\n",
        "log_reg_pca = LogisticRegression()\n",
        "\n",
        "# fit the model\n",
        "log_reg_pca.fit(X_train, y_train )\n",
        "\n",
        "#predict y\n",
        "y_pred_pca = log_reg_pca.predict(X_test)"
      ],
      "metadata": {
        "id": "hzuP9gYqfKJS"
      },
      "execution_count": 41,
      "outputs": []
    },
    {
      "cell_type": "code",
      "source": [
        "# check model accuracy rounded to 2 decimals\n",
        "round(accuracy_score(y_pred_pca, y_test),2)"
      ],
      "metadata": {
        "colab": {
          "base_uri": "https://localhost:8080/"
        },
        "id": "ihJjhyuAojSp",
        "outputId": "c4f15ae9-89e3-43ea-9ae6-471a82bea53e"
      },
      "execution_count": 42,
      "outputs": [
        {
          "output_type": "execute_result",
          "data": {
            "text/plain": [
              "0.85"
            ]
          },
          "metadata": {},
          "execution_count": 42
        }
      ]
    },
    {
      "cell_type": "markdown",
      "source": [
        "After reducing the dimension(features) to 4 from 16, the model accuracy only reduced by 1% from 86% to 85%."
      ],
      "metadata": {
        "id": "l4ekJLHro_Y_"
      }
    },
    {
      "cell_type": "markdown",
      "source": [
        "##Compariming Models\n",
        "**1. Decision Tree**"
      ],
      "metadata": {
        "id": "0TykJxaQroSf"
      }
    },
    {
      "cell_type": "code",
      "source": [
        "# Import libraries\n",
        "from sklearn.tree import DecisionTreeClassifier\n",
        "from sklearn.ensemble import RandomForestClassifier\n"
      ],
      "metadata": {
        "id": "3U51Qhtlrz_F"
      },
      "execution_count": 43,
      "outputs": []
    },
    {
      "cell_type": "code",
      "source": [
        "# Create model\n",
        "tree = DecisionTreeClassifier(max_depth=5, random_state=2)\n",
        "\n",
        "# fit the model\n",
        "tree.fit(X_train,y_train)\n",
        "\n",
        "# predict y\n",
        "y_pred_tree = tree.predict(X_test)"
      ],
      "metadata": {
        "id": "_I7b9uT_tlSj"
      },
      "execution_count": 44,
      "outputs": []
    },
    {
      "cell_type": "code",
      "source": [
        "# model accuracy rounded to 2 decimals\n",
        "round(accuracy_score(y_pred_tree, y_test),2)"
      ],
      "metadata": {
        "colab": {
          "base_uri": "https://localhost:8080/"
        },
        "id": "eNp1EhMfuL1s",
        "outputId": "96de53e0-d053-43a9-dcd1-f82e7f43332a"
      },
      "execution_count": 45,
      "outputs": [
        {
          "output_type": "execute_result",
          "data": {
            "text/plain": [
              "0.87"
            ]
          },
          "metadata": {},
          "execution_count": 45
        }
      ]
    },
    {
      "cell_type": "markdown",
      "source": [
        "**2. Random Forest**"
      ],
      "metadata": {
        "id": "seAfb7puuei1"
      }
    },
    {
      "cell_type": "code",
      "source": [
        "# create model\n",
        "forest = RandomForestClassifier(n_estimators=100, random_state=2)\n",
        "\n",
        "# fit the model\n",
        "forest.fit(X_train, y_train)\n",
        "\n",
        "# predict y\n",
        "y_pred_forest = forest.predict(X_test)"
      ],
      "metadata": {
        "id": "l48U9oHgulzE"
      },
      "execution_count": 46,
      "outputs": []
    },
    {
      "cell_type": "code",
      "source": [
        "# model accuracy\n",
        "round(accuracy_score(y_pred_forest, y_test),2)"
      ],
      "metadata": {
        "colab": {
          "base_uri": "https://localhost:8080/"
        },
        "id": "4dZtR7iwvmRi",
        "outputId": "08e24488-0fe9-413d-b24c-06de97e7c40f"
      },
      "execution_count": 47,
      "outputs": [
        {
          "output_type": "execute_result",
          "data": {
            "text/plain": [
              "0.87"
            ]
          },
          "metadata": {},
          "execution_count": 47
        }
      ]
    },
    {
      "cell_type": "markdown",
      "source": [
        "Comparing the 3 models. Logistic regression had an accuracy score of 86% and Decision tree and Random Forest both had an accuracy score of 87%."
      ],
      "metadata": {
        "id": "O6bZWqpCxe56"
      }
    }
  ]
}